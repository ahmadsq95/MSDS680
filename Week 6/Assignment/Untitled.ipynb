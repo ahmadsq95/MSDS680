{
 "cells": [
  {
   "cell_type": "code",
   "execution_count": 12,
   "id": "959b6d05",
   "metadata": {},
   "outputs": [],
   "source": [
    "def remove_from_string(string, letters):\n",
    "    \"\"\"Given an original string and a string of letters, returns a new string\n",
    "    which is the same as the old one except all occurrences of those letters\n",
    "    have been removed from it.\"\"\"\n",
    "    \n",
    "    for i in letters:\n",
    "        string = string.replace(i,\"\")\n",
    "    return string\n",
    "    raise NotImplementedError"
   ]
  },
  {
   "cell_type": "code",
   "execution_count": 13,
   "id": "b82f6b7f",
   "metadata": {},
   "outputs": [
    {
     "data": {
      "text/plain": [
       "'ahmad'"
      ]
     },
     "execution_count": 13,
     "metadata": {},
     "output_type": "execute_result"
    }
   ],
   "source": [
    "remove_from_string('ahmadsq','sq')"
   ]
  },
  {
   "cell_type": "code",
   "execution_count": 22,
   "id": "8fca5024",
   "metadata": {},
   "outputs": [
    {
     "data": {
      "text/plain": [
       "['a', 'h', 'm', 'a', 'd']"
      ]
     },
     "execution_count": 22,
     "metadata": {},
     "output_type": "execute_result"
    }
   ],
   "source": [
    "st = 'ahmad'\n",
    "st1 = []\n",
    "st1[:] = st\n",
    "st1"
   ]
  },
  {
   "cell_type": "code",
   "execution_count": 31,
   "id": "3d30e985",
   "metadata": {},
   "outputs": [],
   "source": [
    "def compute_string_properties(string):\n",
    "    \"\"\"Given a string of lowercase letters, returns a tuple containing the\n",
    "    following three elements:\n",
    "        0. The length of the string\n",
    "        1. A list of all the characters in the string (including duplicates, if\n",
    "           any), sorted in REVERSE alphabetical order\n",
    "        2. The number of distinct characters in the string (hint: use a set)\n",
    "    \"\"\"\n",
    "    \n",
    "    st1[:] = string\n",
    "    st1.sort(reverse=True)\n",
    "    t = (len(string),st1, len(set(string)))\n",
    "    return t\n",
    "  \n",
    "    raise NotImplementedError\n"
   ]
  },
  {
   "cell_type": "code",
   "execution_count": 32,
   "id": "86f7a23b",
   "metadata": {},
   "outputs": [
    {
     "data": {
      "text/plain": [
       "(5, ['m', 'h', 'd', 'a', 'a'], 4)"
      ]
     },
     "execution_count": 32,
     "metadata": {},
     "output_type": "execute_result"
    }
   ],
   "source": [
    "compute_string_properties('ahmad')"
   ]
  },
  {
   "cell_type": "code",
   "execution_count": 36,
   "id": "0f34937b",
   "metadata": {},
   "outputs": [],
   "source": [
    "def tally_letters(string):\n",
    "    \"\"\"Given a string of lowercase letters, returns a dictionary mapping each\n",
    "    letter to the number of times it occurs in the string.\"\"\"\n",
    "    tally = {}\n",
    "    for i in string:\n",
    "        if i in tally:\n",
    "            tally[i] += 1\n",
    "        else:\n",
    "            tally[i] = 1\n",
    "    return tally\n",
    "    raise NotImplementedError"
   ]
  },
  {
   "cell_type": "code",
   "execution_count": 37,
   "id": "e0a92465",
   "metadata": {},
   "outputs": [
    {
     "data": {
      "text/plain": [
       "{'h': 1, 'e': 1, 'l': 2, 'o': 1}"
      ]
     },
     "execution_count": 37,
     "metadata": {},
     "output_type": "execute_result"
    }
   ],
   "source": [
    "tally_letters(\"hello\")"
   ]
  },
  {
   "cell_type": "code",
   "execution_count": 38,
   "id": "b80edd9f",
   "metadata": {},
   "outputs": [],
   "source": [
    "def tally_letters(string):\n",
    "    \"\"\"Given a string of lowercase letters, returns a dictionary mapping each\n",
    "    letter to the number of times it occurs in the string.\"\"\"\n",
    "    tally = {}\n",
    "    for i in string:\n",
    "        if i in tally:\n",
    "            tally[i] += 1\n",
    "        else:\n",
    "            tally[i] = 1\n",
    "    return tally\n",
    "    raise NotImplementedError\n",
    "\n"
   ]
  },
  {
   "cell_type": "code",
   "execution_count": 40,
   "id": "7864003d",
   "metadata": {},
   "outputs": [
    {
     "data": {
      "text/plain": [
       "{'a': 2, 'h': 1, 'm': 1, 'd': 1}"
      ]
     },
     "execution_count": 40,
     "metadata": {},
     "output_type": "execute_result"
    }
   ],
   "source": [
    "tally_letters(\"ahmad\")"
   ]
  },
  {
   "cell_type": "code",
   "execution_count": null,
   "id": "24a669d3",
   "metadata": {},
   "outputs": [],
   "source": []
  }
 ],
 "metadata": {
  "kernelspec": {
   "display_name": "Python 3 (ipykernel)",
   "language": "python",
   "name": "python3"
  },
  "language_info": {
   "codemirror_mode": {
    "name": "ipython",
    "version": 3
   },
   "file_extension": ".py",
   "mimetype": "text/x-python",
   "name": "python",
   "nbconvert_exporter": "python",
   "pygments_lexer": "ipython3",
   "version": "3.8.10"
  }
 },
 "nbformat": 4,
 "nbformat_minor": 5
}

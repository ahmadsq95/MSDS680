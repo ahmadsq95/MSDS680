{
 "cells": [
  {
   "cell_type": "markdown",
   "metadata": {},
   "source": [
    "## Assignment for Week 1 - Introduction to Machine Learning\n",
    "\n",
    "\n",
    "## Introduction\n",
    "\n",
    "    In week 1, the assignment is to prepare data for machine learning. We are going to explore the data and understand the characteristics of the data to do cleaning, dealing with missing values, and dealing with outliers. Dataset we have is heart disease data which is a set of records of people with there diagnosis of heart disease. The data contains 15 variables where 'num' is the target and the other 14 are our features. those features are various from chest pain to number of years of smoking. \n",
    "    \n",
    "\n",
    "## Method and result \n",
    "\n",
    "    First we import required libraries to handle dataset and visualize it. Then we import the data as a dataframe."
   ]
  },
  {
   "cell_type": "code",
   "execution_count": 1,
   "metadata": {},
   "outputs": [],
   "source": [
    "# data analysis and wrangling\n",
    "import pandas as pd\n",
    "import numpy as np\n",
    "# visualization\n",
    "import seaborn as sns\n",
    "import matplotlib.pyplot as plt\n",
    "%matplotlib inline"
   ]
  },
  {
   "cell_type": "code",
   "execution_count": 2,
   "metadata": {},
   "outputs": [],
   "source": [
    "#loading data\n",
    "df = pd.read_csv('heart.disease.data')"
   ]
  },
  {
   "cell_type": "markdown",
   "metadata": {},
   "source": [
    "\n",
    "    Below, we can see that all variables are numeric and do not have missing values. However, the missing values are filled in the dataset by -9 which can not be shown by isNA or Info function. Instead, we are going to replace all -9 in the data and setting them as NA because it will make it easy to detect and handling them by Numpy and Pandas. Also, dm variable mean, minimum, 1st quartile, and 3rd quartile are -9 which indicates most of dm values are missing.  "
   ]
  },
  {
   "cell_type": "code",
   "execution_count": 3,
   "metadata": {
    "scrolled": true
   },
   "outputs": [
    {
     "name": "stdout",
     "output_type": "stream",
     "text": [
      "<class 'pandas.core.frame.DataFrame'>\n",
      "RangeIndex: 282 entries, 0 to 281\n",
      "Data columns (total 15 columns):\n",
      " #   Column    Non-Null Count  Dtype\n",
      "---  ------    --------------  -----\n",
      " 0   age       282 non-null    int64\n",
      " 1   sex       282 non-null    int64\n",
      " 2   cp        282 non-null    int64\n",
      " 3   trestbps  282 non-null    int64\n",
      " 4   chol      282 non-null    int64\n",
      " 5   cigs      282 non-null    int64\n",
      " 6   years     282 non-null    int64\n",
      " 7   fbs       282 non-null    int64\n",
      " 8   dm        282 non-null    int64\n",
      " 9   famhist   282 non-null    int64\n",
      " 10  restecg   282 non-null    int64\n",
      " 11  thalach   282 non-null    int64\n",
      " 12  exang     282 non-null    int64\n",
      " 13  thal      282 non-null    int64\n",
      " 14  num       282 non-null    int64\n",
      "dtypes: int64(15)\n",
      "memory usage: 33.2 KB\n"
     ]
    },
    {
     "data": {
      "text/html": [
       "<div>\n",
       "<style scoped>\n",
       "    .dataframe tbody tr th:only-of-type {\n",
       "        vertical-align: middle;\n",
       "    }\n",
       "\n",
       "    .dataframe tbody tr th {\n",
       "        vertical-align: top;\n",
       "    }\n",
       "\n",
       "    .dataframe thead th {\n",
       "        text-align: right;\n",
       "    }\n",
       "</style>\n",
       "<table border=\"1\" class=\"dataframe\">\n",
       "  <thead>\n",
       "    <tr style=\"text-align: right;\">\n",
       "      <th></th>\n",
       "      <th>age</th>\n",
       "      <th>sex</th>\n",
       "      <th>cp</th>\n",
       "      <th>trestbps</th>\n",
       "      <th>chol</th>\n",
       "      <th>cigs</th>\n",
       "      <th>years</th>\n",
       "      <th>fbs</th>\n",
       "      <th>dm</th>\n",
       "      <th>famhist</th>\n",
       "      <th>restecg</th>\n",
       "      <th>thalach</th>\n",
       "      <th>exang</th>\n",
       "      <th>thal</th>\n",
       "      <th>num</th>\n",
       "    </tr>\n",
       "  </thead>\n",
       "  <tbody>\n",
       "    <tr>\n",
       "      <th>count</th>\n",
       "      <td>282.000000</td>\n",
       "      <td>282.000000</td>\n",
       "      <td>282.000000</td>\n",
       "      <td>282.000000</td>\n",
       "      <td>282.000000</td>\n",
       "      <td>282.000000</td>\n",
       "      <td>282.000000</td>\n",
       "      <td>282.000000</td>\n",
       "      <td>282.000000</td>\n",
       "      <td>282.000000</td>\n",
       "      <td>282.000000</td>\n",
       "      <td>282.000000</td>\n",
       "      <td>282.000000</td>\n",
       "      <td>282.000000</td>\n",
       "      <td>282.000000</td>\n",
       "    </tr>\n",
       "    <tr>\n",
       "      <th>mean</th>\n",
       "      <td>54.411348</td>\n",
       "      <td>0.677305</td>\n",
       "      <td>3.163121</td>\n",
       "      <td>131.563830</td>\n",
       "      <td>249.092199</td>\n",
       "      <td>16.460993</td>\n",
       "      <td>14.829787</td>\n",
       "      <td>0.148936</td>\n",
       "      <td>-8.184397</td>\n",
       "      <td>0.620567</td>\n",
       "      <td>1.014184</td>\n",
       "      <td>149.765957</td>\n",
       "      <td>0.326241</td>\n",
       "      <td>4.581560</td>\n",
       "      <td>0.907801</td>\n",
       "    </tr>\n",
       "    <tr>\n",
       "      <th>std</th>\n",
       "      <td>9.053083</td>\n",
       "      <td>0.468338</td>\n",
       "      <td>0.955405</td>\n",
       "      <td>17.757496</td>\n",
       "      <td>51.217546</td>\n",
       "      <td>19.580300</td>\n",
       "      <td>15.564563</td>\n",
       "      <td>0.356658</td>\n",
       "      <td>2.741802</td>\n",
       "      <td>0.486108</td>\n",
       "      <td>0.998118</td>\n",
       "      <td>22.923869</td>\n",
       "      <td>0.469670</td>\n",
       "      <td>2.248467</td>\n",
       "      <td>1.224894</td>\n",
       "    </tr>\n",
       "    <tr>\n",
       "      <th>min</th>\n",
       "      <td>29.000000</td>\n",
       "      <td>0.000000</td>\n",
       "      <td>1.000000</td>\n",
       "      <td>94.000000</td>\n",
       "      <td>126.000000</td>\n",
       "      <td>-9.000000</td>\n",
       "      <td>-9.000000</td>\n",
       "      <td>0.000000</td>\n",
       "      <td>-9.000000</td>\n",
       "      <td>0.000000</td>\n",
       "      <td>0.000000</td>\n",
       "      <td>71.000000</td>\n",
       "      <td>0.000000</td>\n",
       "      <td>-9.000000</td>\n",
       "      <td>0.000000</td>\n",
       "    </tr>\n",
       "    <tr>\n",
       "      <th>25%</th>\n",
       "      <td>48.000000</td>\n",
       "      <td>0.000000</td>\n",
       "      <td>3.000000</td>\n",
       "      <td>120.000000</td>\n",
       "      <td>213.000000</td>\n",
       "      <td>0.000000</td>\n",
       "      <td>0.000000</td>\n",
       "      <td>0.000000</td>\n",
       "      <td>-9.000000</td>\n",
       "      <td>0.000000</td>\n",
       "      <td>0.000000</td>\n",
       "      <td>133.250000</td>\n",
       "      <td>0.000000</td>\n",
       "      <td>3.000000</td>\n",
       "      <td>0.000000</td>\n",
       "    </tr>\n",
       "    <tr>\n",
       "      <th>50%</th>\n",
       "      <td>55.000000</td>\n",
       "      <td>1.000000</td>\n",
       "      <td>3.000000</td>\n",
       "      <td>130.000000</td>\n",
       "      <td>244.000000</td>\n",
       "      <td>10.000000</td>\n",
       "      <td>15.000000</td>\n",
       "      <td>0.000000</td>\n",
       "      <td>-9.000000</td>\n",
       "      <td>1.000000</td>\n",
       "      <td>2.000000</td>\n",
       "      <td>153.500000</td>\n",
       "      <td>0.000000</td>\n",
       "      <td>3.000000</td>\n",
       "      <td>0.000000</td>\n",
       "    </tr>\n",
       "    <tr>\n",
       "      <th>75%</th>\n",
       "      <td>61.000000</td>\n",
       "      <td>1.000000</td>\n",
       "      <td>4.000000</td>\n",
       "      <td>140.000000</td>\n",
       "      <td>277.000000</td>\n",
       "      <td>30.000000</td>\n",
       "      <td>30.000000</td>\n",
       "      <td>0.000000</td>\n",
       "      <td>-9.000000</td>\n",
       "      <td>1.000000</td>\n",
       "      <td>2.000000</td>\n",
       "      <td>165.750000</td>\n",
       "      <td>1.000000</td>\n",
       "      <td>7.000000</td>\n",
       "      <td>2.000000</td>\n",
       "    </tr>\n",
       "    <tr>\n",
       "      <th>max</th>\n",
       "      <td>77.000000</td>\n",
       "      <td>1.000000</td>\n",
       "      <td>4.000000</td>\n",
       "      <td>200.000000</td>\n",
       "      <td>564.000000</td>\n",
       "      <td>99.000000</td>\n",
       "      <td>54.000000</td>\n",
       "      <td>1.000000</td>\n",
       "      <td>1.000000</td>\n",
       "      <td>1.000000</td>\n",
       "      <td>2.000000</td>\n",
       "      <td>202.000000</td>\n",
       "      <td>1.000000</td>\n",
       "      <td>7.000000</td>\n",
       "      <td>4.000000</td>\n",
       "    </tr>\n",
       "  </tbody>\n",
       "</table>\n",
       "</div>"
      ],
      "text/plain": [
       "              age         sex          cp    trestbps        chol        cigs  \\\n",
       "count  282.000000  282.000000  282.000000  282.000000  282.000000  282.000000   \n",
       "mean    54.411348    0.677305    3.163121  131.563830  249.092199   16.460993   \n",
       "std      9.053083    0.468338    0.955405   17.757496   51.217546   19.580300   \n",
       "min     29.000000    0.000000    1.000000   94.000000  126.000000   -9.000000   \n",
       "25%     48.000000    0.000000    3.000000  120.000000  213.000000    0.000000   \n",
       "50%     55.000000    1.000000    3.000000  130.000000  244.000000   10.000000   \n",
       "75%     61.000000    1.000000    4.000000  140.000000  277.000000   30.000000   \n",
       "max     77.000000    1.000000    4.000000  200.000000  564.000000   99.000000   \n",
       "\n",
       "            years         fbs          dm     famhist     restecg     thalach  \\\n",
       "count  282.000000  282.000000  282.000000  282.000000  282.000000  282.000000   \n",
       "mean    14.829787    0.148936   -8.184397    0.620567    1.014184  149.765957   \n",
       "std     15.564563    0.356658    2.741802    0.486108    0.998118   22.923869   \n",
       "min     -9.000000    0.000000   -9.000000    0.000000    0.000000   71.000000   \n",
       "25%      0.000000    0.000000   -9.000000    0.000000    0.000000  133.250000   \n",
       "50%     15.000000    0.000000   -9.000000    1.000000    2.000000  153.500000   \n",
       "75%     30.000000    0.000000   -9.000000    1.000000    2.000000  165.750000   \n",
       "max     54.000000    1.000000    1.000000    1.000000    2.000000  202.000000   \n",
       "\n",
       "            exang        thal         num  \n",
       "count  282.000000  282.000000  282.000000  \n",
       "mean     0.326241    4.581560    0.907801  \n",
       "std      0.469670    2.248467    1.224894  \n",
       "min      0.000000   -9.000000    0.000000  \n",
       "25%      0.000000    3.000000    0.000000  \n",
       "50%      0.000000    3.000000    0.000000  \n",
       "75%      1.000000    7.000000    2.000000  \n",
       "max      1.000000    7.000000    4.000000  "
      ]
     },
     "execution_count": 3,
     "metadata": {},
     "output_type": "execute_result"
    }
   ],
   "source": [
    "# view data\n",
    "df.info()\n",
    "df.describe()\n"
   ]
  },
  {
   "cell_type": "code",
   "execution_count": 4,
   "metadata": {
    "scrolled": false
   },
   "outputs": [
    {
     "data": {
      "text/html": [
       "<div>\n",
       "<style scoped>\n",
       "    .dataframe tbody tr th:only-of-type {\n",
       "        vertical-align: middle;\n",
       "    }\n",
       "\n",
       "    .dataframe tbody tr th {\n",
       "        vertical-align: top;\n",
       "    }\n",
       "\n",
       "    .dataframe thead th {\n",
       "        text-align: right;\n",
       "    }\n",
       "</style>\n",
       "<table border=\"1\" class=\"dataframe\">\n",
       "  <thead>\n",
       "    <tr style=\"text-align: right;\">\n",
       "      <th></th>\n",
       "      <th>age</th>\n",
       "      <th>sex</th>\n",
       "      <th>cp</th>\n",
       "      <th>trestbps</th>\n",
       "      <th>chol</th>\n",
       "      <th>cigs</th>\n",
       "      <th>years</th>\n",
       "      <th>fbs</th>\n",
       "      <th>dm</th>\n",
       "      <th>famhist</th>\n",
       "      <th>restecg</th>\n",
       "      <th>thalach</th>\n",
       "      <th>exang</th>\n",
       "      <th>thal</th>\n",
       "      <th>num</th>\n",
       "    </tr>\n",
       "  </thead>\n",
       "  <tbody>\n",
       "    <tr>\n",
       "      <th>277</th>\n",
       "      <td>39</td>\n",
       "      <td>0</td>\n",
       "      <td>3</td>\n",
       "      <td>138</td>\n",
       "      <td>220</td>\n",
       "      <td>20</td>\n",
       "      <td>23</td>\n",
       "      <td>0</td>\n",
       "      <td>-9</td>\n",
       "      <td>0</td>\n",
       "      <td>0</td>\n",
       "      <td>152</td>\n",
       "      <td>0</td>\n",
       "      <td>3</td>\n",
       "      <td>0</td>\n",
       "    </tr>\n",
       "    <tr>\n",
       "      <th>278</th>\n",
       "      <td>57</td>\n",
       "      <td>1</td>\n",
       "      <td>2</td>\n",
       "      <td>154</td>\n",
       "      <td>232</td>\n",
       "      <td>40</td>\n",
       "      <td>35</td>\n",
       "      <td>0</td>\n",
       "      <td>-9</td>\n",
       "      <td>1</td>\n",
       "      <td>2</td>\n",
       "      <td>164</td>\n",
       "      <td>0</td>\n",
       "      <td>3</td>\n",
       "      <td>1</td>\n",
       "    </tr>\n",
       "    <tr>\n",
       "      <th>279</th>\n",
       "      <td>58</td>\n",
       "      <td>0</td>\n",
       "      <td>4</td>\n",
       "      <td>130</td>\n",
       "      <td>197</td>\n",
       "      <td>0</td>\n",
       "      <td>0</td>\n",
       "      <td>0</td>\n",
       "      <td>-9</td>\n",
       "      <td>1</td>\n",
       "      <td>0</td>\n",
       "      <td>131</td>\n",
       "      <td>0</td>\n",
       "      <td>3</td>\n",
       "      <td>0</td>\n",
       "    </tr>\n",
       "    <tr>\n",
       "      <th>280</th>\n",
       "      <td>57</td>\n",
       "      <td>1</td>\n",
       "      <td>4</td>\n",
       "      <td>110</td>\n",
       "      <td>335</td>\n",
       "      <td>20</td>\n",
       "      <td>15</td>\n",
       "      <td>0</td>\n",
       "      <td>-9</td>\n",
       "      <td>1</td>\n",
       "      <td>0</td>\n",
       "      <td>143</td>\n",
       "      <td>1</td>\n",
       "      <td>7</td>\n",
       "      <td>2</td>\n",
       "    </tr>\n",
       "    <tr>\n",
       "      <th>281</th>\n",
       "      <td>47</td>\n",
       "      <td>1</td>\n",
       "      <td>3</td>\n",
       "      <td>130</td>\n",
       "      <td>253</td>\n",
       "      <td>0</td>\n",
       "      <td>0</td>\n",
       "      <td>0</td>\n",
       "      <td>-9</td>\n",
       "      <td>1</td>\n",
       "      <td>0</td>\n",
       "      <td>179</td>\n",
       "      <td>0</td>\n",
       "      <td>3</td>\n",
       "      <td>0</td>\n",
       "    </tr>\n",
       "  </tbody>\n",
       "</table>\n",
       "</div>"
      ],
      "text/plain": [
       "     age  sex  cp  trestbps  chol  cigs  years  fbs  dm  famhist  restecg  \\\n",
       "277   39    0   3       138   220    20     23    0  -9        0        0   \n",
       "278   57    1   2       154   232    40     35    0  -9        1        2   \n",
       "279   58    0   4       130   197     0      0    0  -9        1        0   \n",
       "280   57    1   4       110   335    20     15    0  -9        1        0   \n",
       "281   47    1   3       130   253     0      0    0  -9        1        0   \n",
       "\n",
       "     thalach  exang  thal  num  \n",
       "277      152      0     3    0  \n",
       "278      164      0     3    1  \n",
       "279      131      0     3    0  \n",
       "280      143      1     7    2  \n",
       "281      179      0     3    0  "
      ]
     },
     "execution_count": 4,
     "metadata": {},
     "output_type": "execute_result"
    }
   ],
   "source": [
    "df.head()\n",
    "df.tail()"
   ]
  },
  {
   "cell_type": "markdown",
   "metadata": {},
   "source": [
    "\n",
    "       Below, we replace all -9 values with NA and pring NA for all columns. As suspected, 259 out of 282 of dm column values are missing. Because of that, removing the whole column is the best choice. Also, cigs, years, and thal variables have some missing values."
   ]
  },
  {
   "cell_type": "code",
   "execution_count": 5,
   "metadata": {},
   "outputs": [
    {
     "data": {
      "text/plain": [
       "age           0\n",
       "sex           0\n",
       "cp            0\n",
       "trestbps      0\n",
       "chol          0\n",
       "cigs          5\n",
       "years         5\n",
       "fbs           0\n",
       "dm          259\n",
       "famhist       0\n",
       "restecg       0\n",
       "thalach       0\n",
       "exang         0\n",
       "thal          2\n",
       "num           0\n",
       "dtype: int64"
      ]
     },
     "execution_count": 5,
     "metadata": {},
     "output_type": "execute_result"
    }
   ],
   "source": [
    "## -9 value in dataset means Null, we replace -9 with NA to find missing values and deal with them\n",
    "\n",
    "df.replace(-9,pd.NA,inplace=True)\n",
    "df.isna().sum()"
   ]
  },
  {
   "cell_type": "code",
   "execution_count": 6,
   "metadata": {},
   "outputs": [],
   "source": [
    "# since 259 out of 282 of dm values are missing, I'm dropping the column \n",
    "df = df.drop('dm', axis=1)"
   ]
  },
  {
   "cell_type": "markdown",
   "metadata": {},
   "source": [
    "\n",
    "    As for other variables that having missing values, we will look at their distribution to decide whether we fill the missing values with mean or median. "
   ]
  },
  {
   "cell_type": "code",
   "execution_count": 7,
   "metadata": {},
   "outputs": [
    {
     "data": {
      "text/plain": [
       "<AxesSubplot:>"
      ]
     },
     "execution_count": 7,
     "metadata": {},
     "output_type": "execute_result"
    },
    {
     "data": {
      "image/png": "[encoded data removed]",
      "text/plain": [
       "<Figure size 432x288 with 1 Axes>"
      ]
     },
     "metadata": {
      "needs_background": "light"
     },
     "output_type": "display_data"
    }
   ],
   "source": [
    "df['cigs'].hist()\n",
    "df['years'].hist()"
   ]
  },
  {
   "cell_type": "code",
   "execution_count": 8,
   "metadata": {},
   "outputs": [
    {
     "data": {
      "text/plain": [
       "<AxesSubplot:>"
      ]
     },
     "execution_count": 8,
     "metadata": {},
     "output_type": "execute_result"
    },
    {
     "data": {
      "image/png": "[encoded data removed]",
      "text/plain": [
       "<Figure size 432x288 with 1 Axes>"
      ]
     },
     "metadata": {
      "needs_background": "light"
     },
     "output_type": "display_data"
    }
   ],
   "source": [
    "df['thal'].hist()"
   ]
  },
  {
   "cell_type": "markdown",
   "metadata": {},
   "source": [
    "\n",
    "    All of the three variable do not have normal distribution. So, the best option is eather dropping the rows or fill them with median. I filled them with median. "
   ]
  },
  {
   "cell_type": "code",
   "execution_count": 10,
   "metadata": {},
   "outputs": [],
   "source": [
    "# since years and cigs data are skewed, I'm going to replace the missing values with median.\n",
    "df['cigs'].fillna(df['cigs'].median(), inplace=True)\n",
    "df['years'].fillna(df['years'].median(), inplace=True)\n",
    "df['thal'].fillna(df['thal'].median(), inplace=True)\n"
   ]
  },
  {
   "cell_type": "code",
   "execution_count": 11,
   "metadata": {
    "scrolled": true
   },
   "outputs": [
    {
     "data": {
      "text/plain": [
       "age         0\n",
       "sex         0\n",
       "cp          0\n",
       "trestbps    0\n",
       "chol        0\n",
       "cigs        0\n",
       "years       0\n",
       "fbs         0\n",
       "famhist     0\n",
       "restecg     0\n",
       "thalach     0\n",
       "exang       0\n",
       "thal        0\n",
       "num         0\n",
       "dtype: int64"
      ]
     },
     "execution_count": 11,
     "metadata": {},
     "output_type": "execute_result"
    }
   ],
   "source": [
    "df.isna().sum()"
   ]
  },
  {
   "cell_type": "markdown",
   "metadata": {},
   "source": [
    "    After dealing with the missing values, we now going to deal with the outliers. One way to detect outliers is by boxplot. anything out of bound is considered as outlier. Boxplot below shows that trestbps, chol, and thalach have outliers. the decision of keeping or removing outliers is depending on many factors such as the amount of outliers and their effects on the result. Here I decided to removing those outliers because I believe that is necssary to remove them to have more accurate models.  "
   ]
  },
  {
   "cell_type": "code",
   "execution_count": 12,
   "metadata": {
    "scrolled": true
   },
   "outputs": [
    {
     "data": {
      "text/plain": [
       "<AxesSubplot:>"
      ]
     },
     "execution_count": 12,
     "metadata": {},
     "output_type": "execute_result"
    },
    {
     "data": {
      "image/png": "[encoded data removed]",
      "text/plain": [
       "<Figure size 432x288 with 1 Axes>"
      ]
     },
     "metadata": {
      "needs_background": "light"
     },
     "output_type": "display_data"
    }
   ],
   "source": [
    "sns.boxplot(data=df, orient='h')"
   ]
  },
  {
   "cell_type": "code",
   "execution_count": 13,
   "metadata": {},
   "outputs": [
    {
     "data": {
      "text/plain": [
       "(277, 14)"
      ]
     },
     "execution_count": 13,
     "metadata": {},
     "output_type": "execute_result"
    }
   ],
   "source": [
    "# removing outliers from df for chol\n",
    "Q1c = df['chol'].quantile(0.25)\n",
    "Q3c = df['chol'].quantile(0.75)\n",
    "IQRc = Q3c - Q1c    #IQR is interquartile range. \n",
    "lowqe_boundc = Q1c - 1.5 * IQRc\n",
    "upper_boundc = Q3c + 1.5 * IQRc\n",
    "\n",
    "df_cln = df[~((df['chol'] < lowqe_boundc) |(df['chol'] > upper_boundc))]\n",
    "df_cln.shape  "
   ]
  },
  {
   "cell_type": "code",
   "execution_count": 14,
   "metadata": {},
   "outputs": [
    {
     "data": {
      "text/plain": [
       "<AxesSubplot:>"
      ]
     },
     "execution_count": 14,
     "metadata": {},
     "output_type": "execute_result"
    },
    {
     "data": {
      "image/png": "[encoded data removed]",
      "text/plain": [
       "<Figure size 432x288 with 1 Axes>"
      ]
     },
     "metadata": {
      "needs_background": "light"
     },
     "output_type": "display_data"
    }
   ],
   "source": [
    "\n",
    "sns.boxplot(data=df_cln, orient='h')"
   ]
  },
  {
   "cell_type": "code",
   "execution_count": 15,
   "metadata": {},
   "outputs": [
    {
     "data": {
      "text/plain": [
       "(268, 14)"
      ]
     },
     "execution_count": 15,
     "metadata": {},
     "output_type": "execute_result"
    }
   ],
   "source": [
    "# removing outliers from df for trestbps\n",
    "Q1t = df_cln['trestbps'].quantile(0.25)\n",
    "Q3t = df_cln['trestbps'].quantile(0.75)\n",
    "IQRt = Q3t - Q1t    #IQR is interquartile range. \n",
    "lowqe_boundt = Q1t - 1.5 * IQRt\n",
    "upper_boundt = Q3t + 1.5 * IQRt\n",
    "\n",
    "df_cln1 = df_cln[~((df_cln['trestbps'] < lowqe_boundt) |(df_cln['trestbps'] > upper_boundt))]\n",
    "df_cln1.shape  "
   ]
  },
  {
   "cell_type": "code",
   "execution_count": 16,
   "metadata": {},
   "outputs": [
    {
     "data": {
      "text/plain": [
       "<AxesSubplot:>"
      ]
     },
     "execution_count": 16,
     "metadata": {},
     "output_type": "execute_result"
    },
    {
     "data": {
      "image/png": "[encoded data removed]",
      "text/plain": [
       "<Figure size 432x288 with 1 Axes>"
      ]
     },
     "metadata": {
      "needs_background": "light"
     },
     "output_type": "display_data"
    }
   ],
   "source": [
    "\n",
    "sns.boxplot(data=df_cln1, orient='h')"
   ]
  },
  {
   "cell_type": "code",
   "execution_count": 17,
   "metadata": {},
   "outputs": [
    {
     "data": {
      "text/plain": [
       "(265, 14)"
      ]
     },
     "execution_count": 17,
     "metadata": {},
     "output_type": "execute_result"
    }
   ],
   "source": [
    "# removing outliers from df for cigs\n",
    "Q1cigs = df_cln1['cigs'].quantile(0.25)\n",
    "Q3cigs = df_cln1['cigs'].quantile(0.75)\n",
    "IQRcigs = Q3cigs - Q1cigs    #IQR is interquartile range. \n",
    "lowqe_boundcigs = Q1cigs - 1.5 * IQRcigs\n",
    "upper_boundcigs = Q3cigs + 1.5 * IQRcigs\n",
    "\n",
    "df_cln2 = df_cln1[~((df_cln1['cigs'] < lowqe_boundcigs) |(df_cln1['cigs'] > upper_boundcigs))]\n",
    "df_cln2.shape  "
   ]
  },
  {
   "cell_type": "code",
   "execution_count": 18,
   "metadata": {},
   "outputs": [
    {
     "data": {
      "text/plain": [
       "<AxesSubplot:>"
      ]
     },
     "execution_count": 18,
     "metadata": {},
     "output_type": "execute_result"
    },
    {
     "data": {
      "image/png": "[encoded data removed]",
      "text/plain": [
       "<Figure size 432x288 with 1 Axes>"
      ]
     },
     "metadata": {
      "needs_background": "light"
     },
     "output_type": "display_data"
    }
   ],
   "source": [
    "\n",
    "sns.boxplot(data=df_cln2, orient='h')"
   ]
  },
  {
   "cell_type": "code",
   "execution_count": 19,
   "metadata": {},
   "outputs": [
    {
     "data": {
      "text/plain": [
       "(264, 14)"
      ]
     },
     "execution_count": 19,
     "metadata": {},
     "output_type": "execute_result"
    }
   ],
   "source": [
    "# removing outliers from df for thalach\n",
    "Q1ta = df_cln2['thalach'].quantile(0.25)\n",
    "Q3ta = df_cln2['thalach'].quantile(0.75)\n",
    "IQRta = Q3ta - Q1ta    #IQR is interquartile range. \n",
    "lowqe_boundta = Q1ta - 1.5 * IQRta\n",
    "upper_boundta = Q3ta + 1.5 * IQRta\n",
    "\n",
    "df_cln3 = df_cln2[~((df_cln2['thalach'] < lowqe_boundta) |(df_cln2['thalach'] > upper_boundta))]\n",
    "df_cln3.shape  "
   ]
  },
  {
   "cell_type": "code",
   "execution_count": 20,
   "metadata": {},
   "outputs": [
    {
     "data": {
      "text/plain": [
       "<AxesSubplot:>"
      ]
     },
     "execution_count": 20,
     "metadata": {},
     "output_type": "execute_result"
    },
    {
     "data": {
      "image/png": "[encoded data removed]",
      "text/plain": [
       "<Figure size 432x288 with 1 Axes>"
      ]
     },
     "metadata": {
      "needs_background": "light"
     },
     "output_type": "display_data"
    }
   ],
   "source": [
    "#cp , fbs\n",
    "\n",
    "sns.boxplot(data=df_cln3[['sex','cp','fbs','famhist','restecg','exang', 'thal','num']], orient='h')\n"
   ]
  },
  {
   "cell_type": "code",
   "execution_count": 21,
   "metadata": {},
   "outputs": [
    {
     "data": {
      "text/plain": [
       "(243, 14)"
      ]
     },
     "execution_count": 21,
     "metadata": {},
     "output_type": "execute_result"
    }
   ],
   "source": [
    "# removing outliers from df for thalach\n",
    "Q1cp = df_cln3['cp'].quantile(0.25)\n",
    "Q3cp = df_cln3['cp'].quantile(0.75)\n",
    "IQRcp = Q3cp - Q1cp    #IQR is interquartile range. \n",
    "lowqe_boundcp = Q1cp - 1.5 * IQRcp\n",
    "upper_boundcp = Q3cp + 1.5 * IQRcp\n",
    "\n",
    "df_cln4 = df_cln3[~((df_cln3['cp'] < lowqe_boundcp) |(df_cln3['cp'] > upper_boundcp))]\n",
    "df_cln4.shape  "
   ]
  },
  {
   "cell_type": "code",
   "execution_count": 22,
   "metadata": {},
   "outputs": [
    {
     "data": {
      "text/plain": [
       "<AxesSubplot:>"
      ]
     },
     "execution_count": 22,
     "metadata": {},
     "output_type": "execute_result"
    },
    {
     "data": {
      "image/png": "[encoded data removed]",
      "text/plain": [
       "<Figure size 432x288 with 1 Axes>"
      ]
     },
     "metadata": {
      "needs_background": "light"
     },
     "output_type": "display_data"
    }
   ],
   "source": [
    "sns.boxplot(data=df_cln4[['sex','cp','fbs','famhist','restecg','exang', 'thal','num']], orient='h')"
   ]
  },
  {
   "cell_type": "code",
   "execution_count": 23,
   "metadata": {},
   "outputs": [
    {
     "data": {
      "text/plain": [
       "(212, 14)"
      ]
     },
     "execution_count": 23,
     "metadata": {},
     "output_type": "execute_result"
    }
   ],
   "source": [
    "# removing outliers from df for thalach\n",
    "Q1f = df_cln4['fbs'].quantile(0.25)\n",
    "Q3f = df_cln4['fbs'].quantile(0.75)\n",
    "IQRf = Q3f - Q1f    #IQR is interquartile range. \n",
    "lowqe_boundf = Q1f - 1.5 * IQRf\n",
    "upper_boundf = Q3f + 1.5 * IQRf\n",
    "\n",
    "df_cln5 = df_cln4[~((df_cln4['fbs'] < lowqe_boundf) |(df_cln4['fbs'] > upper_boundf))]\n",
    "df_cln5.shape  "
   ]
  },
  {
   "cell_type": "markdown",
   "metadata": {},
   "source": [
    "    Below is boxplot of the dataset after being cleaned and ready for modeling. "
   ]
  },
  {
   "cell_type": "code",
   "execution_count": 24,
   "metadata": {
    "scrolled": true
   },
   "outputs": [
    {
     "data": {
      "text/plain": [
       "<AxesSubplot:>"
      ]
     },
     "execution_count": 24,
     "metadata": {},
     "output_type": "execute_result"
    },
    {
     "data": {
      "image/png": "[encoded data removed]",
      "text/plain": [
       "<Figure size 432x288 with 1 Axes>"
      ]
     },
     "metadata": {
      "needs_background": "light"
     },
     "output_type": "display_data"
    }
   ],
   "source": [
    "sns.boxplot(data=df_cln5[['sex','cp','fbs','famhist','restecg','exang', 'thal','num']], orient='h')"
   ]
  },
  {
   "cell_type": "code",
   "execution_count": 25,
   "metadata": {
    "scrolled": true
   },
   "outputs": [
    {
     "data": {
      "text/plain": [
       "<AxesSubplot:>"
      ]
     },
     "execution_count": 25,
     "metadata": {},
     "output_type": "execute_result"
    },
    {
     "data": {
      "image/png": "[encoded data removed]",
      "text/plain": [
       "<Figure size 432x288 with 1 Axes>"
      ]
     },
     "metadata": {
      "needs_background": "light"
     },
     "output_type": "display_data"
    }
   ],
   "source": [
    "sns.boxplot(data=df_cln5[['age','trestbps','chol','cigs','years','thalach',]], orient='h')"
   ]
  },
  {
   "cell_type": "markdown",
   "metadata": {},
   "source": [
    "## summary\n",
    "\n",
    "    Although data is clean now, I am concerned that almost 30% of the data are removed because they're outliers. Also, the data can be improved by combining some variables. Finally, I faced problems not knowing how to find missing values because they are labeled by -9 and I did not had the enough experience to convert them to NAs. Also, it took me so much time to complete the code because I wanted to learn the code and what every function does rather than just copying them. \n",
    "\n"
   ]
  },
  {
   "cell_type": "markdown",
   "metadata": {},
   "source": [
    "## References \n",
    "\n",
    "    Detect and Remove Outliers from Pandas DataFrame. (2021, August 29). Retrieved from knowledge transfer: https://androidkt.com/detect-and-remove-outliers-from-pandas-dataframe/\n",
    "    How to set a cell to NaN in a pandas dataframe. (n.d.). Retrieved from stack overflow: https://stackoverflow.com/questions/34794067/how-to-set-a-cell-to-nan-in-a-pandas-dataframe\n",
    "\n"
   ]
  }
 ],
 "metadata": {
  "kernelspec": {
   "display_name": "Python 3",
   "language": "python",
   "name": "python3"
  },
  "language_info": {
   "codemirror_mode": {
    "name": "ipython",
    "version": 3
   },
   "file_extension": ".py",
   "mimetype": "text/x-python",
   "name": "python",
   "nbconvert_exporter": "python",
   "pygments_lexer": "ipython3",
   "version": "3.8.8"
  }
 },
 "nbformat": 4,
 "nbformat_minor": 2
}

{
 "cells": [
  {
   "cell_type": "markdown",
   "metadata": {},
   "source": [
    "## Assignment for Week 2 - Naive-Bayes\n",
    "\n",
    "### Task 1 - Bayesian Classification - Solution\n",
    "\n",
    "**Important Note:**\n",
    "This exercise is not a programming exercise, it is a math exercise to help reinforce the math behind a Bayesian Classification.  You can fill free to complete this in any method you feel is appropriate (ie: pencil/paper (you will need to scan your work to submit), Excel workbook, markdown text with a jupyter notebook, etc)<br>"
   ]
  },
  {
   "cell_type": "markdown",
   "metadata": {},
   "source": [
    "Please show all your work.\n",
    "\n",
    "1. In a study of pleas and prison sentences, it is reported that 42% of the subjects were sent to prison. Among those sent to prison, 38% plead guilty. Among those not sent to prison, 50% plead guilty.<br>\n",
    "&emsp;a) If a subject is randomly selected, what is the probability of getting a person who was not sent to prison? <br>\n",
    "&emsp;b) If a subject is randomly selected, and it is known that the subject entered a quilty plea, what is the probability that this subject was not sent to prison? <br>\n",
    "&emsp;c) If a subject is randomly selected, what is the probability of getting someone who was sent to prison?<br>\n",
    "&emsp;d) If a subject is randomly selected, and it is known that the subject entered a guilty plea, what is the probability that this person was sent to prison?"
   ]
  },
  {
   "cell_type": "markdown",
   "metadata": {},
   "source": [
    "### Baye's Theorem:\n",
    "The probability of event A, given that event B has subsequently occurred can be defined as \n",
    "\n",
    "$$\n",
    "P(A~|~B) = \\frac{P(A) \\cdot P(B~|~A)}{(~P(A) \\cdot P(B~|A~)~) + (~P(A') \\cdot P(B~|A'~)~)}\n",
    "$$\n",
    "\n",
    "**Note:** P(A')denotes P(not A) and the same applies for P(B').\n"
   ]
  },
  {
   "cell_type": "markdown",
   "metadata": {},
   "source": [
    "#### What we know at this point\n",
    "&emsp;&emsp;Let **A** be the event of **sent to prison**.\n",
    "\n",
    "$$ P(A) = .42 $$\n",
    "\n",
    "$$ P(A') = .58 $$\n"
   ]
  },
  {
   "cell_type": "markdown",
   "metadata": {},
   "source": [
    "&emsp;&emsp;Let **B** be the event of **entering a quilty plea**. We than know that:\n",
    "\n",
    "$$ P(B~|A~) = .38 $$ \n",
    "\n",
    "$$ P(B'~|A~) = .62 $$\n",
    "\n",
    "$$ P(B~|A'~) = .5 $$\n",
    "\n",
    "$$ P(B'~|A'~) = .5 $$"
   ]
  },
  {
   "cell_type": "markdown",
   "metadata": {},
   "source": [
    "&emsp;a) Probability of not being sent to prison\n",
    "$$ P(A') = .58 $$"
   ]
  },
  {
   "cell_type": "markdown",
   "metadata": {},
   "source": [
    "&emsp;b) Probablity of not being sent to prison, given entered a quilty plea.\n",
    "\n",
    "$$ P(A'~|~B) = \\frac{P(A') \\cdot P(B~|~A')}{(~P(A') \\cdot P(B~|A'~)~) + (~P(A) \\cdot P(B~|A~)~)} $$\n",
    "\n",
    "$$ = \\frac{(.58) \\cdot (.5)}{(~(.58) \\cdot (.5)) + (~(.42) \\cdot (.38)~)} $$\n",
    "\n",
    "$$ = \\frac{.29}{.29 +.1596}$$\n",
    "\n",
    "$$ .645018~~~(~rounds~to~.65~)$$\n",
    "\n"
   ]
  },
  {
   "cell_type": "markdown",
   "metadata": {},
   "source": [
    "&emsp;c) Probability of being sent to prison\n",
    "$$ P(A) = .42 $$"
   ]
  },
  {
   "cell_type": "markdown",
   "metadata": {},
   "source": [
    "&emsp;d) Probablity of being sent to prison, given entered a quilty plea.\n",
    "\n",
    "$$ P(A~|~B) = \\frac{P(A) \\cdot P(B~|~A)}{(~P(A) \\cdot P(B~|A~)~) + (~P(A') \\cdot P(B~|A'~)~)} $$\n",
    "\n",
    "$$ = \\frac{(.42) \\cdot (.38)}{(~(.42) \\cdot (.38)) + (~(.58) \\cdot (.5)~)} $$\n",
    "\n",
    "$$ = \\frac{.1596}{.1596 +.29}$$\n",
    "\n",
    "$$ .354982~~~(~rounds~to~.35~)$$"
   ]
  },
  {
   "cell_type": "markdown",
   "metadata": {},
   "source": [
    "2. Given the following table:\n",
    "\n",
    "|Customer ID| Gender  |Car Type|Shirt Size |Class|\n",
    "|:---------:|:-------:|:------:|:---------:|:---:|\n",
    "|1          |M        |Family  |Small      |CO   |\n",
    "|2          |M        |Sports  |Medium     |CO   |\n",
    "|3          |M        |Sports  |Medium     |CO   |\n",
    "|4          |M        |Sports  |Large      |CO   |\n",
    "|5          |M        |Sports  |Extra Large|CO   |\n",
    "|6          |M        |Sports  |Extra Large|CO   |\n",
    "|7          |F        |Sports  |Small      |CO   |\n",
    "|8          |F        |Sports  |Small      |CO   |\n",
    "|9          |F        |Sports  |Medium     |CO   |\n",
    "|10         |F        |Luxury  |Large      |CO   |\n",
    "|11         |M        |Family  |Large      |C1   |\n",
    "|12         |M        |Family  |Extra Large|C1   |\n",
    "|13         |M        |Family  |Medium     |C1   |\n",
    "|14         |M        |Luxury  |Extra Large|C1   |\n",
    "|15         |F        |Luxury  |Small      |C1   |\n",
    "|16         |F        |Luxury  |Small      |C1   |\n",
    "|17         |F        |Luxury  |Medium     |C1   |\n",
    "|18         |F        |Luxury  |Medium     |C1   |\n",
    "|19         |F        |Luxury  |Medium     |C1   |\n",
    "|20         |F        |Luxury  |Large      |C1   |\n",
    "<br>\n",
    "\n",
    "&emsp;a) What is the value of each of the following probabilities?<br>\n",
    "&emsp;   - P(Gender=M | Class=C0)<br>\n",
    "&emsp;   - P(Gender=F | Class=C1)<br>\n",
    "&emsp;   - P(Car Type=Family | Class=C0)<br>\n",
    "&emsp;   - P(Car Type=Family | Class=C1)<br>\n",
    "&emsp;   - P(Shirt Size=Medium | Class=C0)<br>\n",
    "&emsp;   - P(Shirt Size=Medium | Class=C1)<br>\n",
    "<br>\n",
    "&emsp;b) Use Naive Bayes Classifier to find the class of P(Gender=F | Car Type=Family| Shirt Size=Medium)"
   ]
  },
  {
   "cell_type": "markdown",
   "metadata": {},
   "source": [
    "&emsp;a) What is the value of each of the following probabilities? <br>\n",
    "\n",
    "$$ P(~Gender=M|Class=C0~)~-->~6/10 = .6 $$\n",
    "$$ P(~Gender=F|Class=C0~)~-->~4/10 = .4 $$\n",
    "\n",
    "$$ P(~Gender=F|Class=C1~)~-->~6/10 = .6 $$\n",
    "\n",
    "$$ P(~(Car Type=Family|Class=C0~)~-->~1/10 = .1 $$\n",
    "\n",
    "$$ P(~(Car Type=Family|Class=C1~)~-->~3/10 = .3 $$\n",
    "\n",
    "$$ P(~(Shirt Size=Medium |Class=C0~)~-->~3/10 = .3 $$\n",
    "\n",
    "$$ P(~(Shirt Size=Medium |Class=C1~)~-->~4/10 = .4 $$\n",
    "<br>"
   ]
  },
  {
   "cell_type": "markdown",
   "metadata": {},
   "source": [
    "&emsp;b) Calculate the class of the P(Gender=F | Car Type=Family| Shirt Size=Medium) using Naive Bayes Classifier\n",
    "\n",
    "&emsp;Let x = P( Female | Family | Medium )\n",
    "\n",
    "&emsp;&emsp; Calculate P(x|CO) and P(x|C1):\n",
    "\n",
    "$$ P(~ x|Class = CO~) = P(~ Female|CO~) \\cdot P(~ Family|CO~) \\cdot P(~Medium|CO~) = (.4) \\cdot (.1) \\cdot (.3) = .012$$\n",
    "\n",
    "$$ P(~ x|Class = C1~) = P(~ Female|C1~) \\cdot P(~ Family|C1~) \\cdot P(~Medium|C1~) = (.6) \\cdot (.3) \\cdot (.4) = .072$$\n",
    "\n",
    "&emsp;&emsp; Since P(x|Class=C1) > P(x|Class=CO) we can conclude that the **class= C1** for P(Gender=F | Car Type=Family| Shirt Size=Medium)."
   ]
  },
  {
   "cell_type": "code",
   "execution_count": null,
   "metadata": {},
   "outputs": [],
   "source": []
  }
 ],
 "metadata": {
  "kernelspec": {
   "display_name": "R",
   "language": "R",
   "name": "ir"
  },
  "language_info": {
   "codemirror_mode": "r",
   "file_extension": ".r",
   "mimetype": "text/x-r-source",
   "name": "R",
   "pygments_lexer": "r",
   "version": "3.6.1"
  }
 },
 "nbformat": 4,
 "nbformat_minor": 4
}

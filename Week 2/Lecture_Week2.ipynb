{
 "cells": [
  {
   "cell_type": "markdown",
   "metadata": {},
   "source": [
    "# Week 2 - K-nearest Neighbors (KNN)\n",
    "<img align=\"right\" style=\"padding-right:10px;\" src=\"figures_wk2/knn.png\" width=500><br>\n",
    "**FTE Overview:**\n",
    "K-nearest Neighbors (KNN)\n",
    "* Overview\n",
    "* A Bit of Theory\n",
    "* KNN: Regressor vs Classifier\n",
    "* KNN Demo - Auto data set\n",
    "   - Loading Data\n",
    "   - EDA - just a little bit\n",
    "   - What are you trying to investigate?\n",
    "   - Defining your features and targets\n",
    "   - Splitting your data set - training and test sets\n",
    "   - Setting up the KNNRegressor\n",
    "   - Determining the Optimal number of Clusters\n",
    "   - PCA: Visualize your KNN Model\n",
    "* Improving your model - Normalizing Data"
   ]
  },
  {
   "cell_type": "markdown",
   "metadata": {},
   "source": [
    "## K-nearest Neighbors (KNN)\n",
    "(https://stackabuse.com/k-nearest-neighbors-algorithm-in-python-and-scikit-learn/)<br>\n",
    "\n",
    "The K-nearest neighbors (KNN) algorithm is a type of supervised machine learning algorithms. KNN is extremely easy to implement in its most basic form, and yet performs quite complex classification tasks. \n",
    "\n",
    "KNN is a lazy learning algorithm since it doesn't have a specialized training phase. Rather, it uses all of the data for training while classifying a new data point or instance. \n",
    "\n",
    "KNN is a non-parametric learning algorithm, which means that it doesn't assume anything about the underlying data. This is an extremely useful feature since most of the real world data doesn't really follow any theoretical assumption e.g. linear-separability, uniform distribution, etc."
   ]
  },
  {
   "cell_type": "markdown",
   "metadata": {},
   "source": [
    "### A Bit of Theory\n",
    "The theory behind the KNN algorithm is one of the simplest  supervised machine learning algorithms. \n",
    "\n",
    "KNN simply calculates the distance of a new data point to all other training data points. This distance can be calculated by a variety of methods. The most common are Euclidean, Manhattan, and Minowski. \n",
    "\n",
    "KNN then selects the K-nearest data points, where K can be any integer. Finally it assigns the data point to the class to which the majority of the K data points belong."
   ]
  },
  {
   "cell_type": "markdown",
   "metadata": {},
   "source": [
    "Let's see this algorithm in action with the help of a simple example. Suppose you have a dataset with two variables, which when plotted, looks like the one in the following figure.\n",
    "<img align=\"center\" style=\"padding-right:10px;\" src=\"figures_wk2/theory1.png\" width=400><br>"
   ]
  },
  {
   "cell_type": "markdown",
   "metadata": {},
   "source": [
    "Your task is to classify a new data point with 'X' into \"Blue\" class or \"Red\" class. The coordinate values of the data point are x=45 and y=50. \n",
    "\n",
    "Suppose the value of K is 3. The KNN algorithm starts by calculating the distance of point X from all the points. It then finds the 3 nearest points with least distance to point X. This is shown in the figure below. The three nearest points have been encircled.\n",
    "<img align=\"center\" style=\"padding-right:10px;\" src=\"figures_wk2/theory2.png\" width=400><br>"
   ]
  },
  {
   "cell_type": "markdown",
   "metadata": {},
   "source": [
    "The final step of the KNN algorithm is to assign new point to the class to which majority of the three nearest points belong. \n",
    "\n",
    "From the figure above we can see that the two of the three nearest points belong to the class \"Red\" while one belongs to the class \"Blue\". Therefore the new data point will be classified as \"Red\"."
   ]
  },
  {
   "cell_type": "markdown",
   "metadata": {},
   "source": [
    "### KNN: Regressor vs Classifier\n",
    "What's the difference between a KNN Regressor and KNN Classifier?\n",
    "* KNN regression tries to predict the value of the output variable by using a local average. The regressor model works best when the codomain is continuous. \n",
    "* KNN classification attempts to predict the class to which the output variable belong by computing the local probability. The classifier model works best when the codomain is discrete.\n",
    "\n",
    "As an example, if you were trying to predict the time it took for a pizza delivery company to delivery a pizza, you would be working with a codomain (your target value) that is continuous. \n",
    "\n",
    "Another important note, like many other machine learning algorithms, KNN only works with all numerical data. If your dataset has categorical values, you will need to convert them into numeric representations.<br>\n",
    "\n",
    "Here are some resources on how to do this:<br>\n",
    "https://www.geeksforgeeks.org/replacing-strings-with-numbers-in-python-for-data-analysis/ <br>\n",
    "https://scikit-learn.org/stable/modules/generated/sklearn.preprocessing.LabelEncoder.html"
   ]
  },
  {
   "cell_type": "markdown",
   "metadata": {},
   "source": [
    "### KNN Demo - Auto data set\n",
    "For this demonstration, we will be using a data set that I have already cleaned up (replaced all the NaN). Normally that would be your first step in building a machine learning algorithm."
   ]
  },
  {
   "cell_type": "code",
   "execution_count": 1,
   "metadata": {},
   "outputs": [],
   "source": [
    "# pandas\n",
    "import pandas as pd\n",
    "\n",
    "# sklearn\n",
    "from sklearn.neighbors import KNeighborsRegressor\n",
    "from sklearn.model_selection import train_test_split\n",
    "from sklearn.decomposition import PCA\n",
    "\n",
    "# plotting\n",
    "import seaborn as sns\n",
    "import matplotlib.pyplot as plt\n",
    "%matplotlib inline\n",
    "sns.set() "
   ]
  },
  {
   "cell_type": "code",
   "execution_count": 2,
   "metadata": {},
   "outputs": [],
   "source": [
    "import warnings\n",
    "warnings.filterwarnings(\"ignore\")"
   ]
  },
  {
   "cell_type": "markdown",
   "metadata": {},
   "source": [
    "#### Loading our data set"
   ]
  },
  {
   "cell_type": "code",
   "execution_count": 3,
   "metadata": {},
   "outputs": [],
   "source": [
    "# loading our data set\n",
    "auto = pd.read_csv('data_wk2/auto.dt.nona.csv')"
   ]
  },
  {
   "cell_type": "code",
   "execution_count": 4,
   "metadata": {},
   "outputs": [
    {
     "data": {
      "text/html": [
       "<div>\n",
       "<style scoped>\n",
       "    .dataframe tbody tr th:only-of-type {\n",
       "        vertical-align: middle;\n",
       "    }\n",
       "\n",
       "    .dataframe tbody tr th {\n",
       "        vertical-align: top;\n",
       "    }\n",
       "\n",
       "    .dataframe thead th {\n",
       "        text-align: right;\n",
       "    }\n",
       "</style>\n",
       "<table border=\"1\" class=\"dataframe\">\n",
       "  <thead>\n",
       "    <tr style=\"text-align: right;\">\n",
       "      <th></th>\n",
       "      <th>mpg</th>\n",
       "      <th>cylinders</th>\n",
       "      <th>displacement</th>\n",
       "      <th>horsepower</th>\n",
       "      <th>weight</th>\n",
       "      <th>acceleration</th>\n",
       "      <th>model.year</th>\n",
       "      <th>origin</th>\n",
       "    </tr>\n",
       "  </thead>\n",
       "  <tbody>\n",
       "    <tr>\n",
       "      <th>0</th>\n",
       "      <td>18.0</td>\n",
       "      <td>8</td>\n",
       "      <td>307.0</td>\n",
       "      <td>130.0</td>\n",
       "      <td>3504</td>\n",
       "      <td>12.0</td>\n",
       "      <td>70</td>\n",
       "      <td>1</td>\n",
       "    </tr>\n",
       "    <tr>\n",
       "      <th>1</th>\n",
       "      <td>15.0</td>\n",
       "      <td>8</td>\n",
       "      <td>350.0</td>\n",
       "      <td>165.0</td>\n",
       "      <td>3693</td>\n",
       "      <td>11.5</td>\n",
       "      <td>70</td>\n",
       "      <td>1</td>\n",
       "    </tr>\n",
       "    <tr>\n",
       "      <th>2</th>\n",
       "      <td>18.0</td>\n",
       "      <td>8</td>\n",
       "      <td>318.0</td>\n",
       "      <td>150.0</td>\n",
       "      <td>3436</td>\n",
       "      <td>11.0</td>\n",
       "      <td>70</td>\n",
       "      <td>1</td>\n",
       "    </tr>\n",
       "    <tr>\n",
       "      <th>3</th>\n",
       "      <td>16.0</td>\n",
       "      <td>8</td>\n",
       "      <td>304.0</td>\n",
       "      <td>150.0</td>\n",
       "      <td>3433</td>\n",
       "      <td>12.0</td>\n",
       "      <td>70</td>\n",
       "      <td>1</td>\n",
       "    </tr>\n",
       "    <tr>\n",
       "      <th>4</th>\n",
       "      <td>17.0</td>\n",
       "      <td>8</td>\n",
       "      <td>302.0</td>\n",
       "      <td>140.0</td>\n",
       "      <td>3449</td>\n",
       "      <td>10.5</td>\n",
       "      <td>70</td>\n",
       "      <td>1</td>\n",
       "    </tr>\n",
       "    <tr>\n",
       "      <th>5</th>\n",
       "      <td>15.0</td>\n",
       "      <td>8</td>\n",
       "      <td>429.0</td>\n",
       "      <td>198.0</td>\n",
       "      <td>4341</td>\n",
       "      <td>10.0</td>\n",
       "      <td>70</td>\n",
       "      <td>1</td>\n",
       "    </tr>\n",
       "    <tr>\n",
       "      <th>6</th>\n",
       "      <td>14.0</td>\n",
       "      <td>8</td>\n",
       "      <td>454.0</td>\n",
       "      <td>220.0</td>\n",
       "      <td>4354</td>\n",
       "      <td>9.0</td>\n",
       "      <td>70</td>\n",
       "      <td>1</td>\n",
       "    </tr>\n",
       "    <tr>\n",
       "      <th>7</th>\n",
       "      <td>14.0</td>\n",
       "      <td>8</td>\n",
       "      <td>440.0</td>\n",
       "      <td>215.0</td>\n",
       "      <td>4312</td>\n",
       "      <td>8.5</td>\n",
       "      <td>70</td>\n",
       "      <td>1</td>\n",
       "    </tr>\n",
       "    <tr>\n",
       "      <th>8</th>\n",
       "      <td>14.0</td>\n",
       "      <td>8</td>\n",
       "      <td>455.0</td>\n",
       "      <td>225.0</td>\n",
       "      <td>4425</td>\n",
       "      <td>10.0</td>\n",
       "      <td>70</td>\n",
       "      <td>1</td>\n",
       "    </tr>\n",
       "    <tr>\n",
       "      <th>9</th>\n",
       "      <td>15.0</td>\n",
       "      <td>8</td>\n",
       "      <td>390.0</td>\n",
       "      <td>190.0</td>\n",
       "      <td>3850</td>\n",
       "      <td>8.5</td>\n",
       "      <td>70</td>\n",
       "      <td>1</td>\n",
       "    </tr>\n",
       "  </tbody>\n",
       "</table>\n",
       "</div>"
      ],
      "text/plain": [
       "    mpg  cylinders  displacement  horsepower  weight  acceleration  \\\n",
       "0  18.0          8         307.0       130.0    3504          12.0   \n",
       "1  15.0          8         350.0       165.0    3693          11.5   \n",
       "2  18.0          8         318.0       150.0    3436          11.0   \n",
       "3  16.0          8         304.0       150.0    3433          12.0   \n",
       "4  17.0          8         302.0       140.0    3449          10.5   \n",
       "5  15.0          8         429.0       198.0    4341          10.0   \n",
       "6  14.0          8         454.0       220.0    4354           9.0   \n",
       "7  14.0          8         440.0       215.0    4312           8.5   \n",
       "8  14.0          8         455.0       225.0    4425          10.0   \n",
       "9  15.0          8         390.0       190.0    3850           8.5   \n",
       "\n",
       "   model.year  origin  \n",
       "0          70       1  \n",
       "1          70       1  \n",
       "2          70       1  \n",
       "3          70       1  \n",
       "4          70       1  \n",
       "5          70       1  \n",
       "6          70       1  \n",
       "7          70       1  \n",
       "8          70       1  \n",
       "9          70       1  "
      ]
     },
     "execution_count": 4,
     "metadata": {},
     "output_type": "execute_result"
    }
   ],
   "source": [
    "auto.head(10)"
   ]
  },
  {
   "cell_type": "markdown",
   "metadata": {},
   "source": [
    "#### EDA - just a little bit"
   ]
  },
  {
   "cell_type": "code",
   "execution_count": 5,
   "metadata": {},
   "outputs": [
    {
     "name": "stdout",
     "output_type": "stream",
     "text": [
      "<class 'pandas.core.frame.DataFrame'>\n",
      "RangeIndex: 398 entries, 0 to 397\n",
      "Data columns (total 8 columns):\n",
      " #   Column        Non-Null Count  Dtype  \n",
      "---  ------        --------------  -----  \n",
      " 0   mpg           398 non-null    float64\n",
      " 1   cylinders     398 non-null    int64  \n",
      " 2   displacement  398 non-null    float64\n",
      " 3   horsepower    398 non-null    float64\n",
      " 4   weight        398 non-null    int64  \n",
      " 5   acceleration  398 non-null    float64\n",
      " 6   model.year    398 non-null    int64  \n",
      " 7   origin        398 non-null    int64  \n",
      "dtypes: float64(4), int64(4)\n",
      "memory usage: 25.0 KB\n"
     ]
    }
   ],
   "source": [
    "auto.info()"
   ]
  },
  {
   "cell_type": "code",
   "execution_count": 6,
   "metadata": {},
   "outputs": [
    {
     "data": {
      "text/html": [
       "<div>\n",
       "<style scoped>\n",
       "    .dataframe tbody tr th:only-of-type {\n",
       "        vertical-align: middle;\n",
       "    }\n",
       "\n",
       "    .dataframe tbody tr th {\n",
       "        vertical-align: top;\n",
       "    }\n",
       "\n",
       "    .dataframe thead th {\n",
       "        text-align: right;\n",
       "    }\n",
       "</style>\n",
       "<table border=\"1\" class=\"dataframe\">\n",
       "  <thead>\n",
       "    <tr style=\"text-align: right;\">\n",
       "      <th></th>\n",
       "      <th>mpg</th>\n",
       "      <th>cylinders</th>\n",
       "      <th>displacement</th>\n",
       "      <th>horsepower</th>\n",
       "      <th>weight</th>\n",
       "      <th>acceleration</th>\n",
       "      <th>model.year</th>\n",
       "      <th>origin</th>\n",
       "    </tr>\n",
       "  </thead>\n",
       "  <tbody>\n",
       "    <tr>\n",
       "      <th>count</th>\n",
       "      <td>398.000000</td>\n",
       "      <td>398.000000</td>\n",
       "      <td>398.000000</td>\n",
       "      <td>398.000000</td>\n",
       "      <td>398.000000</td>\n",
       "      <td>398.000000</td>\n",
       "      <td>398.000000</td>\n",
       "      <td>398.000000</td>\n",
       "    </tr>\n",
       "    <tr>\n",
       "      <th>mean</th>\n",
       "      <td>23.514573</td>\n",
       "      <td>5.454774</td>\n",
       "      <td>193.425879</td>\n",
       "      <td>104.127154</td>\n",
       "      <td>2970.424623</td>\n",
       "      <td>15.568090</td>\n",
       "      <td>76.010050</td>\n",
       "      <td>1.572864</td>\n",
       "    </tr>\n",
       "    <tr>\n",
       "      <th>std</th>\n",
       "      <td>7.815984</td>\n",
       "      <td>1.701004</td>\n",
       "      <td>104.269838</td>\n",
       "      <td>38.315134</td>\n",
       "      <td>846.841774</td>\n",
       "      <td>2.757689</td>\n",
       "      <td>3.697627</td>\n",
       "      <td>0.802055</td>\n",
       "    </tr>\n",
       "    <tr>\n",
       "      <th>min</th>\n",
       "      <td>9.000000</td>\n",
       "      <td>3.000000</td>\n",
       "      <td>68.000000</td>\n",
       "      <td>46.000000</td>\n",
       "      <td>1613.000000</td>\n",
       "      <td>8.000000</td>\n",
       "      <td>70.000000</td>\n",
       "      <td>1.000000</td>\n",
       "    </tr>\n",
       "    <tr>\n",
       "      <th>25%</th>\n",
       "      <td>17.500000</td>\n",
       "      <td>4.000000</td>\n",
       "      <td>104.250000</td>\n",
       "      <td>75.000000</td>\n",
       "      <td>2223.750000</td>\n",
       "      <td>13.825000</td>\n",
       "      <td>73.000000</td>\n",
       "      <td>1.000000</td>\n",
       "    </tr>\n",
       "    <tr>\n",
       "      <th>50%</th>\n",
       "      <td>23.000000</td>\n",
       "      <td>4.000000</td>\n",
       "      <td>148.500000</td>\n",
       "      <td>92.000000</td>\n",
       "      <td>2803.500000</td>\n",
       "      <td>15.500000</td>\n",
       "      <td>76.000000</td>\n",
       "      <td>1.000000</td>\n",
       "    </tr>\n",
       "    <tr>\n",
       "      <th>75%</th>\n",
       "      <td>29.000000</td>\n",
       "      <td>8.000000</td>\n",
       "      <td>262.000000</td>\n",
       "      <td>125.000000</td>\n",
       "      <td>3608.000000</td>\n",
       "      <td>17.175000</td>\n",
       "      <td>79.000000</td>\n",
       "      <td>2.000000</td>\n",
       "    </tr>\n",
       "    <tr>\n",
       "      <th>max</th>\n",
       "      <td>46.600000</td>\n",
       "      <td>8.000000</td>\n",
       "      <td>455.000000</td>\n",
       "      <td>230.000000</td>\n",
       "      <td>5140.000000</td>\n",
       "      <td>24.800000</td>\n",
       "      <td>82.000000</td>\n",
       "      <td>3.000000</td>\n",
       "    </tr>\n",
       "  </tbody>\n",
       "</table>\n",
       "</div>"
      ],
      "text/plain": [
       "              mpg   cylinders  displacement  horsepower       weight  \\\n",
       "count  398.000000  398.000000    398.000000  398.000000   398.000000   \n",
       "mean    23.514573    5.454774    193.425879  104.127154  2970.424623   \n",
       "std      7.815984    1.701004    104.269838   38.315134   846.841774   \n",
       "min      9.000000    3.000000     68.000000   46.000000  1613.000000   \n",
       "25%     17.500000    4.000000    104.250000   75.000000  2223.750000   \n",
       "50%     23.000000    4.000000    148.500000   92.000000  2803.500000   \n",
       "75%     29.000000    8.000000    262.000000  125.000000  3608.000000   \n",
       "max     46.600000    8.000000    455.000000  230.000000  5140.000000   \n",
       "\n",
       "       acceleration  model.year      origin  \n",
       "count    398.000000  398.000000  398.000000  \n",
       "mean      15.568090   76.010050    1.572864  \n",
       "std        2.757689    3.697627    0.802055  \n",
       "min        8.000000   70.000000    1.000000  \n",
       "25%       13.825000   73.000000    1.000000  \n",
       "50%       15.500000   76.000000    1.000000  \n",
       "75%       17.175000   79.000000    2.000000  \n",
       "max       24.800000   82.000000    3.000000  "
      ]
     },
     "execution_count": 6,
     "metadata": {},
     "output_type": "execute_result"
    }
   ],
   "source": [
    "auto.describe()"
   ]
  },
  {
   "cell_type": "markdown",
   "metadata": {},
   "source": [
    "#### What are you trying to investigate?\n",
    "At this point we need to define a question that we wish to investigate. I'm going to use a correlation matrix to look for possible realtionships within our data set."
   ]
  },
  {
   "cell_type": "code",
   "execution_count": 7,
   "metadata": {},
   "outputs": [
    {
     "data": {
      "image/png": "[encoded data removed]",
      "text/plain": [
       "<Figure size 432x288 with 2 Axes>"
      ]
     },
     "metadata": {},
     "output_type": "display_data"
    }
   ],
   "source": [
    "_ = sns.heatmap(auto.corr())"
   ]
  },
  {
   "cell_type": "markdown",
   "metadata": {},
   "source": [
    "<div class=\"alert alert-block alert-info\">\n",
    "<b>Pop Quiz::</b> What does the '_' mean in the cell above? <br>\n",
    "\n",
    "Answer: Signifies a temporary variable that we don't intend to use going forward.\n",
    "</div>"
   ]
  },
  {
   "cell_type": "markdown",
   "metadata": {},
   "source": [
    "Looking at the correlatin matirx, we can see a strong correlation between mpg and four other columns. We can also see that acceleration, model.year and origin appear to have less significance to mpg.\n",
    "\n",
    "Given this information, I'm going to set mpg as my target variable and remove acceleration, model.year and origin from the dataset."
   ]
  },
  {
   "cell_type": "code",
   "execution_count": 8,
   "metadata": {},
   "outputs": [],
   "source": [
    "# trimming our data set\n",
    "auto.drop(['acceleration', 'model.year', 'origin'],axis=1, inplace=True)"
   ]
  },
  {
   "cell_type": "code",
   "execution_count": 9,
   "metadata": {},
   "outputs": [
    {
     "data": {
      "text/html": [
       "<div>\n",
       "<style scoped>\n",
       "    .dataframe tbody tr th:only-of-type {\n",
       "        vertical-align: middle;\n",
       "    }\n",
       "\n",
       "    .dataframe tbody tr th {\n",
       "        vertical-align: top;\n",
       "    }\n",
       "\n",
       "    .dataframe thead th {\n",
       "        text-align: right;\n",
       "    }\n",
       "</style>\n",
       "<table border=\"1\" class=\"dataframe\">\n",
       "  <thead>\n",
       "    <tr style=\"text-align: right;\">\n",
       "      <th></th>\n",
       "      <th>mpg</th>\n",
       "      <th>cylinders</th>\n",
       "      <th>displacement</th>\n",
       "      <th>horsepower</th>\n",
       "      <th>weight</th>\n",
       "    </tr>\n",
       "  </thead>\n",
       "  <tbody>\n",
       "    <tr>\n",
       "      <th>0</th>\n",
       "      <td>18.0</td>\n",
       "      <td>8</td>\n",
       "      <td>307.0</td>\n",
       "      <td>130.0</td>\n",
       "      <td>3504</td>\n",
       "    </tr>\n",
       "    <tr>\n",
       "      <th>1</th>\n",
       "      <td>15.0</td>\n",
       "      <td>8</td>\n",
       "      <td>350.0</td>\n",
       "      <td>165.0</td>\n",
       "      <td>3693</td>\n",
       "    </tr>\n",
       "    <tr>\n",
       "      <th>2</th>\n",
       "      <td>18.0</td>\n",
       "      <td>8</td>\n",
       "      <td>318.0</td>\n",
       "      <td>150.0</td>\n",
       "      <td>3436</td>\n",
       "    </tr>\n",
       "    <tr>\n",
       "      <th>3</th>\n",
       "      <td>16.0</td>\n",
       "      <td>8</td>\n",
       "      <td>304.0</td>\n",
       "      <td>150.0</td>\n",
       "      <td>3433</td>\n",
       "    </tr>\n",
       "    <tr>\n",
       "      <th>4</th>\n",
       "      <td>17.0</td>\n",
       "      <td>8</td>\n",
       "      <td>302.0</td>\n",
       "      <td>140.0</td>\n",
       "      <td>3449</td>\n",
       "    </tr>\n",
       "    <tr>\n",
       "      <th>5</th>\n",
       "      <td>15.0</td>\n",
       "      <td>8</td>\n",
       "      <td>429.0</td>\n",
       "      <td>198.0</td>\n",
       "      <td>4341</td>\n",
       "    </tr>\n",
       "    <tr>\n",
       "      <th>6</th>\n",
       "      <td>14.0</td>\n",
       "      <td>8</td>\n",
       "      <td>454.0</td>\n",
       "      <td>220.0</td>\n",
       "      <td>4354</td>\n",
       "    </tr>\n",
       "    <tr>\n",
       "      <th>7</th>\n",
       "      <td>14.0</td>\n",
       "      <td>8</td>\n",
       "      <td>440.0</td>\n",
       "      <td>215.0</td>\n",
       "      <td>4312</td>\n",
       "    </tr>\n",
       "    <tr>\n",
       "      <th>8</th>\n",
       "      <td>14.0</td>\n",
       "      <td>8</td>\n",
       "      <td>455.0</td>\n",
       "      <td>225.0</td>\n",
       "      <td>4425</td>\n",
       "    </tr>\n",
       "    <tr>\n",
       "      <th>9</th>\n",
       "      <td>15.0</td>\n",
       "      <td>8</td>\n",
       "      <td>390.0</td>\n",
       "      <td>190.0</td>\n",
       "      <td>3850</td>\n",
       "    </tr>\n",
       "  </tbody>\n",
       "</table>\n",
       "</div>"
      ],
      "text/plain": [
       "    mpg  cylinders  displacement  horsepower  weight\n",
       "0  18.0          8         307.0       130.0    3504\n",
       "1  15.0          8         350.0       165.0    3693\n",
       "2  18.0          8         318.0       150.0    3436\n",
       "3  16.0          8         304.0       150.0    3433\n",
       "4  17.0          8         302.0       140.0    3449\n",
       "5  15.0          8         429.0       198.0    4341\n",
       "6  14.0          8         454.0       220.0    4354\n",
       "7  14.0          8         440.0       215.0    4312\n",
       "8  14.0          8         455.0       225.0    4425\n",
       "9  15.0          8         390.0       190.0    3850"
      ]
     },
     "execution_count": 9,
     "metadata": {},
     "output_type": "execute_result"
    }
   ],
   "source": [
    "auto.head(10)"
   ]
  },
  {
   "cell_type": "markdown",
   "metadata": {},
   "source": [
    "#### Defining our features and targets\n",
    "Target(s) are the values that we are trying to predict and features are what we are using to predict our target(s)."
   ]
  },
  {
   "cell_type": "code",
   "execution_count": 10,
   "metadata": {},
   "outputs": [],
   "source": [
    "cols = auto.columns\n",
    "target_col = 'mpg'\n",
    "feat_cols = [c for c in cols if c != target_col]\n",
    "\n",
    "# there is nothing magical about the X and y notation here. \n",
    "# however, it seems to be a fairly standard notation, so we will use is here\n",
    "X = auto[feat_cols].values\n",
    "y = auto[target_col].values"
   ]
  },
  {
   "cell_type": "markdown",
   "metadata": {},
   "source": [
    "#### Splitting your data set into training and test sets\n",
    "Now we are creating the train and test splits. We make a training set so we can train all of our models on the train set. We can then compare how the models compare by evaluating performance on the test set. Train and tests sets should never contain any of the same data. The idea is the model has never seen the test set before, so we can check if our model is overfitting (high variance) and which model works best on unseen data. Sometimes the test data is called the ‘holdout set’."
   ]
  },
  {
   "cell_type": "code",
   "execution_count": 11,
   "metadata": {},
   "outputs": [],
   "source": [
    "X_train, X_test, y_train, y_test = train_test_split(X, y, test_size=0.2, random_state=42)"
   ]
  },
  {
   "cell_type": "markdown",
   "metadata": {},
   "source": [
    "<div class=\"alert alert-block alert-info\">\n",
    "<b>Pop Quiz::</b> What does the 'random_state' mean in the cell above do? <br>\n",
    "\n",
    "Answer: random_state sets a seed to the random generator, so that your train-test splits are always deterministic. Meaning your results will be reproducible if you were to re-run this notebook.\n",
    "</div>"
   ]
  },
  {
   "cell_type": "markdown",
   "metadata": {},
   "source": [
    "#### Setting up the KNN Regressor\n",
    "Since our target value (mpg) is continuous, we will use sklearn.KNeighborsRegressor.\n",
    "\n",
    "For right now, we are simply going to use k=3 for our number of clusters."
   ]
  },
  {
   "cell_type": "code",
   "execution_count": 12,
   "metadata": {},
   "outputs": [
    {
     "data": {
      "text/plain": [
       "KNeighborsRegressor(n_jobs=-1, n_neighbors=3)"
      ]
     },
     "execution_count": 12,
     "metadata": {},
     "output_type": "execute_result"
    }
   ],
   "source": [
    "# define and fit our model\n",
    "model = KNeighborsRegressor(n_neighbors=3, n_jobs=-1)\n",
    "model.fit(X_train, y_train)"
   ]
  },
  {
   "cell_type": "code",
   "execution_count": 13,
   "metadata": {},
   "outputs": [
    {
     "name": "stdout",
     "output_type": "stream",
     "text": [
      "Actuals for test data set\n",
      "[33.  28.  19.  13.  14.  27.  24.  13.  17.  21.  15.  38.  26.  15.\n",
      " 25.  12.  31.  17.  16.  31.  22.  22.  22.  33.5 18.  44.  26.  24.5\n",
      " 18.1 12.  27.  36.  23.  24.  37.2 16.  21.  19.2 16.  29.  26.8 27.\n",
      " 18.  10.  23.  36.  26.  25.  25.  25.  22.  34.1 32.4 13.  23.5 14.\n",
      " 18.5 29.8 28.  19.  11.  33.  23.  21.  23.  25.  23.8 34.4 24.5 13.\n",
      " 34.7 14.  15.  18.  25.  19.9 17.5 28.  29.  17. ]\n",
      "Predictions for test data set\n",
      "[34.4        30.5        23.6        15.         15.33333333 27.03333333\n",
      " 22.56666667 13.33333333 15.16666667 21.46666667 15.4        35.7\n",
      " 32.16666667 16.23333333 28.93333333 11.66666667 24.16666667 23.73333333\n",
      " 14.66666667 35.7        28.36666667 22.63333333 18.33333333 33.9\n",
      " 18.56666667 34.93333333 24.         25.23333333 22.26666667 11.66666667\n",
      " 23.83333333 31.86666667 15.66666667 25.06666667 33.6        14.16666667\n",
      " 28.73333333 17.         13.         30.53333333 26.8        28.43333333\n",
      " 23.06666667 12.66666667 26.7        27.33333333 30.3        27.\n",
      " 24.         33.53333333 21.         35.7        24.66666667 13.66666667\n",
      " 25.1        12.33333333 15.         26.7        29.9        19.9\n",
      " 15.33333333 34.4        28.         27.13333333 21.46666667 23.\n",
      " 23.         33.23333333 29.         15.16666667 34.63333333 15.16666667\n",
      " 14.5        25.33333333 22.06666667 19.2        18.56666667 24.8\n",
      " 30.5        16.23333333]\n"
     ]
    }
   ],
   "source": [
    "# gather the predictations that our model made for our test set\n",
    "preds = model.predict(X_test)\n",
    "\n",
    "# display the actuals and predictions for the test set\n",
    "print('Actuals for test data set')\n",
    "print(y_test)\n",
    "print('Predictions for test data set')\n",
    "print(preds)"
   ]
  },
  {
   "cell_type": "code",
   "execution_count": 14,
   "metadata": {},
   "outputs": [
    {
     "name": "stdout",
     "output_type": "stream",
     "text": [
      "Differences between the two sets\n",
      "[-1.4        -2.5        -4.6        -2.         -1.33333333 -0.03333333\n",
      "  1.43333333 -0.33333333  1.83333333 -0.46666667 -0.4         2.3\n",
      " -6.16666667 -1.23333333 -3.93333333  0.33333333  6.83333333 -6.73333333\n",
      "  1.33333333 -4.7        -6.36666667 -0.63333333  3.66666667 -0.4\n",
      " -0.56666667  9.06666667  2.         -0.73333333 -4.16666667  0.33333333\n",
      "  3.16666667  4.13333333  7.33333333 -1.06666667  3.6         1.83333333\n",
      " -7.73333333  2.2         3.         -1.53333333  0.         -1.43333333\n",
      " -5.06666667 -2.66666667 -3.7         8.66666667 -4.3        -2.\n",
      "  1.         -8.53333333  1.         -1.6         7.73333333 -0.66666667\n",
      " -1.6         1.66666667  3.5         3.1        -1.9        -0.9\n",
      " -4.33333333 -1.4        -5.         -6.13333333  1.53333333  2.\n",
      "  0.8         1.16666667 -4.5        -2.16666667  0.06666667 -1.16666667\n",
      "  0.5        -7.33333333  2.93333333  0.7        -1.06666667  3.2\n",
      " -1.5         0.76666667]\n"
     ]
    }
   ],
   "source": [
    "#compare the two sets for 'subscribed'\n",
    "differs = y_test - preds\n",
    "print('Differences between the two sets')\n",
    "print(differs)"
   ]
  },
  {
   "cell_type": "markdown",
   "metadata": {},
   "source": [
    "Just printing out the predictions and differences doesn't really work for a larger data set. [skleam.metric](https://scikit-learn.org/stable/modules/classes.html#sklearn-metrics-metrics) is a great package to look at the accuracy of your model. Just make sure you are matching your evaluation metric with the type of algorithm you used.\n",
    "\n",
    "We will take a look at several of the available metrics for our KNNRegressor model below."
   ]
  },
  {
   "cell_type": "code",
   "execution_count": 15,
   "metadata": {},
   "outputs": [
    {
     "name": "stdout",
     "output_type": "stream",
     "text": [
      "0.7532098674876971\n"
     ]
    }
   ],
   "source": [
    "# R^2 (coefficient of determination) regression score function.\n",
    "# Best possible score is 1.0 and it can be negative \n",
    "# (because the model can be arbitrarily worse). \n",
    "# A constant model that always predicts the expected value of y, \n",
    "# disregarding the input features, would get a R^2 score of 0.0.\n",
    "from sklearn.metrics import r2_score\n",
    "\n",
    "print(r2_score(y_test,preds))"
   ]
  },
  {
   "cell_type": "code",
   "execution_count": 16,
   "metadata": {},
   "outputs": [
    {
     "name": "stdout",
     "output_type": "stream",
     "text": [
      "0.756425950774052\n"
     ]
    }
   ],
   "source": [
    "# Explained variance regression score function\n",
    "# Best possible score is 1.0, lower values are worse.\n",
    "\n",
    "from sklearn.metrics import explained_variance_score\n",
    "\n",
    "print(explained_variance_score(y_test,preds))"
   ]
  },
  {
   "cell_type": "markdown",
   "metadata": {},
   "source": [
    "Hmmm... A r2_score of .75 isn't all that bad.  Especially since we just guessed on the number of clusters.  Perhaps there is away to be \"smarter\" about selecting the number of clusters.\n",
    "\n",
    "#### Determining the optimal number of clusters\n",
    "Let's loop through a range of k values and store the accuracy of the various models.   then we can graphically display the accuracy scores to determine the optimal number of clusters. \n",
    "\n",
    "Note: For KNeighborsRegressor, score retrns the r2_score from sklearn.metrics.<br>\n",
    "(https://scikit-learn.org/stable/modules/generated/sklearn.neighbors.KNeighborsRegressor.html)"
   ]
  },
  {
   "cell_type": "code",
   "execution_count": 17,
   "metadata": {},
   "outputs": [
    {
     "name": "stdout",
     "output_type": "stream",
     "text": [
      "Features: ['cylinders', 'displacement', 'horsepower', 'weight'] \n",
      "Target: mpg\n",
      "Evaluating 2 clusters\n",
      "Evaluating 3 clusters\n",
      "Evaluating 4 clusters\n",
      "Evaluating 5 clusters\n",
      "Evaluating 6 clusters\n",
      "Evaluating 7 clusters\n",
      "Evaluating 8 clusters\n",
      "Evaluating 9 clusters\n",
      "Evaluating 10 clusters\n",
      "Evaluating 11 clusters\n",
      "Evaluating 12 clusters\n",
      "Evaluating 13 clusters\n",
      "Evaluating 14 clusters\n",
      "Evaluating 15 clusters\n",
      "Evaluating 16 clusters\n",
      "Evaluating 17 clusters\n",
      "Evaluating 18 clusters\n",
      "Evaluating 19 clusters\n"
     ]
    }
   ],
   "source": [
    "scores = []\n",
    "print(f'Features: {feat_cols} \\nTarget: {target_col}')\n",
    "\n",
    "# remember the ending number for range is not inclusive\n",
    "for k in range(2, 20):\n",
    "    # output to let us know where we are\n",
    "    print(f'Evaluating {k} clusters')\n",
    "    \n",
    "    # n_jobs=-1 will use all processors on your system\n",
    "    model = KNeighborsRegressor(n_neighbors=k, n_jobs=-1)\n",
    "    model.fit(X_train, y_train)\n",
    "    scores.append(model.score(X_test, y_test))"
   ]
  },
  {
   "cell_type": "code",
   "execution_count": 18,
   "metadata": {},
   "outputs": [
    {
     "data": {
      "text/plain": [
       "[0.7200199566853442,\n",
       " 0.7532098674876971,\n",
       " 0.7707141861600249,\n",
       " 0.760450122758956,\n",
       " 0.7607346326180134,\n",
       " 0.7555157063850226,\n",
       " 0.7660375645543788,\n",
       " 0.7676637574059654,\n",
       " 0.7799653850083771,\n",
       " 0.7743402066316343,\n",
       " 0.7840495606001879,\n",
       " 0.7862759667265933,\n",
       " 0.7768881783410926,\n",
       " 0.7637634243653031,\n",
       " 0.76922413510762,\n",
       " 0.7701092940642451,\n",
       " 0.7661354064275062,\n",
       " 0.7725000893408634]"
      ]
     },
     "execution_count": 18,
     "metadata": {},
     "output_type": "execute_result"
    }
   ],
   "source": [
    "scores"
   ]
  },
  {
   "cell_type": "code",
   "execution_count": 19,
   "metadata": {},
   "outputs": [
    {
     "data": {
      "image/png": "[encoded data removed]",
      "text/plain": [
       "<Figure size 432x288 with 1 Axes>"
      ]
     },
     "metadata": {},
     "output_type": "display_data"
    }
   ],
   "source": [
    "# display the resutls\n",
    "plt.plot(range(2, 20), scores)\n",
    "plt.scatter(range(2, 20), scores)\n",
    "plt.grid()\n",
    "_ =plt.xticks(range(2, 20))"
   ]
  },
  {
   "cell_type": "markdown",
   "metadata": {},
   "source": [
    "So what is this plot trying to tell us? <br>\n",
    "\n",
    "We loaded accuracy scores into the array that this plot is based off of. We can validate this by comparing the r2_score from our work above with the plot itself.  So, we would expect k=3 to be around .75. (red circle)\n",
    "\n",
    "<img align=\"center\" style=\"padding-right:10px;\" src=\"figures_wk2/plot1.png\" width=400><br>\n",
    "\n",
    "Yup! we have a match.\n",
    "\n",
    "The green arrow is showing that at k=13, we have the highest r2_score value.  That would lead us to believe that 13 is the optimal number of clusters for our data set and this algorithm.\n",
    "\n",
    "Let's re-run the model for k=13 and verify our assumptions."
   ]
  },
  {
   "cell_type": "code",
   "execution_count": 20,
   "metadata": {},
   "outputs": [
    {
     "name": "stdout",
     "output_type": "stream",
     "text": [
      "Actuals for test data set\n",
      "[33.  28.  19.  13.  14.  27.  24.  13.  17.  21.  15.  38.  26.  15.\n",
      " 25.  12.  31.  17.  16.  31.  22.  22.  22.  33.5 18.  44.  26.  24.5\n",
      " 18.1 12.  27.  36.  23.  24.  37.2 16.  21.  19.2 16.  29.  26.8 27.\n",
      " 18.  10.  23.  36.  26.  25.  25.  25.  22.  34.1 32.4 13.  23.5 14.\n",
      " 18.5 29.8 28.  19.  11.  33.  23.  21.  23.  25.  23.8 34.4 24.5 13.\n",
      " 34.7 14.  15.  18.  25.  19.9 17.5 28.  29.  17. ]\n",
      "Predictions for test data set\n",
      "[34.24615385 26.36923077 26.39230769 15.09230769 15.         31.36923077\n",
      " 23.41538462 12.53846154 14.69230769 22.45384615 16.20769231 32.56153846\n",
      " 31.46923077 15.51538462 26.85384615 12.61538462 27.06153846 21.56923077\n",
      " 14.96153846 33.77692308 27.54615385 21.53076923 22.30769231 34.16923077\n",
      " 18.00769231 34.85384615 26.6        24.82307692 19.35384615 12.61538462\n",
      " 23.61538462 33.66153846 15.13076923 27.41538462 32.39230769 14.26153846\n",
      " 26.16923077 18.50769231 13.41538462 29.89230769 26.12307692 34.23846154\n",
      " 24.53846154 12.84615385 27.54615385 30.85384615 27.44615385 27.30769231\n",
      " 26.55384615 28.48461538 26.60769231 33.58461538 27.18461538 13.91538462\n",
      " 26.19230769 13.41538462 15.16923077 26.43076923 26.14615385 18.73846154\n",
      " 17.07692308 34.24615385 27.16923077 23.42307692 22.75384615 29.38461538\n",
      " 23.41538462 33.11538462 30.89230769 14.65384615 29.89230769 14.95384615\n",
      " 13.91538462 22.54615385 22.53076923 19.27692308 18.63846154 25.95384615\n",
      " 31.79230769 16.05384615]\n"
     ]
    }
   ],
   "source": [
    "# define and fit our model\n",
    "model = KNeighborsRegressor(n_neighbors=13, n_jobs=-1)\n",
    "model.fit(X_train, y_train)\n",
    "\n",
    "# gather the predictations that our model made for our test set\n",
    "preds = model.predict(X_test)\n",
    "\n",
    "# display the actuals and predictions for the test set\n",
    "print('Actuals for test data set')\n",
    "print(y_test)\n",
    "print('Predictions for test data set')\n",
    "print(preds)"
   ]
  },
  {
   "cell_type": "code",
   "execution_count": 21,
   "metadata": {},
   "outputs": [
    {
     "name": "stdout",
     "output_type": "stream",
     "text": [
      "Differences between the two sets:\n",
      "[-1.24615385e+00  1.63076923e+00 -7.39230769e+00 -2.09230769e+00\n",
      " -1.00000000e+00 -4.36923077e+00  5.84615385e-01  4.61538462e-01\n",
      "  2.30769231e+00 -1.45384615e+00 -1.20769231e+00  5.43846154e+00\n",
      " -5.46923077e+00 -5.15384615e-01 -1.85384615e+00 -6.15384615e-01\n",
      "  3.93846154e+00 -4.56923077e+00  1.03846154e+00 -2.77692308e+00\n",
      " -5.54615385e+00  4.69230769e-01 -3.07692308e-01 -6.69230769e-01\n",
      " -7.69230769e-03  9.14615385e+00 -6.00000000e-01 -3.23076923e-01\n",
      " -1.25384615e+00 -6.15384615e-01  3.38461538e+00  2.33846154e+00\n",
      "  7.86923077e+00 -3.41538462e+00  4.80769231e+00  1.73846154e+00\n",
      " -5.16923077e+00  6.92307692e-01  2.58461538e+00 -8.92307692e-01\n",
      "  6.76923077e-01 -7.23846154e+00 -6.53846154e+00 -2.84615385e+00\n",
      " -4.54615385e+00  5.14615385e+00 -1.44615385e+00 -2.30769231e+00\n",
      " -1.55384615e+00 -3.48461538e+00 -4.60769231e+00  5.15384615e-01\n",
      "  5.21538462e+00 -9.15384615e-01 -2.69230769e+00  5.84615385e-01\n",
      "  3.33076923e+00  3.36923077e+00  1.85384615e+00  2.61538462e-01\n",
      " -6.07692308e+00 -1.24615385e+00 -4.16923077e+00 -2.42307692e+00\n",
      "  2.46153846e-01 -4.38461538e+00  3.84615385e-01  1.28461538e+00\n",
      " -6.39230769e+00 -1.65384615e+00  4.80769231e+00 -9.53846154e-01\n",
      "  1.08461538e+00 -4.54615385e+00  2.46923077e+00  6.23076923e-01\n",
      " -1.13846154e+00  2.04615385e+00 -2.79230769e+00  9.46153846e-01]\n",
      "r2_score: 0.7862759667265933\n"
     ]
    }
   ],
   "source": [
    "differs = y_test - preds\n",
    "\n",
    "print(f'Differences between the two sets:\\n{differs}')\n",
    "\n",
    "print(f'r2_score: {r2_score(y_test,preds)}')"
   ]
  },
  {
   "cell_type": "markdown",
   "metadata": {},
   "source": [
    "Hooray! That all turned out as expected. The r2_score for our KNNRegresor with k=13 is approximately .79. Which is a fairly descent score overall. \n",
    "\n",
    "#### PCA: Visualize your KNN model\n",
    "We can also use PCA to visualize high-dimensional data in 2 or 3 dimensions. PCA essentially distills data down into new features that are capturing the most variance in the data.\n",
    "\n",
    "Basically, PCA captures the essence of the data in a few principal components, which convey the most variation in the dataset.  We can display this variation in a graphical format.\n",
    "\n",
    "To start off we fit the PCA model with our training set and then transform the test set against that training set."
   ]
  },
  {
   "cell_type": "code",
   "execution_count": 22,
   "metadata": {},
   "outputs": [],
   "source": [
    "pc = PCA()\n",
    "tr_pca = pc.fit_transform(X_train)\n",
    "te_pca = pc.transform(X_test)"
   ]
  },
  {
   "cell_type": "markdown",
   "metadata": {},
   "source": [
    "Let's start by plotting the variation within the training set. The clustering is based off our training_set target variable ('mpg')."
   ]
  },
  {
   "cell_type": "code",
   "execution_count": 23,
   "metadata": {},
   "outputs": [
    {
     "data": {
      "image/png": "[encoded data removed]",
      "text/plain": [
       "<Figure size 432x288 with 2 Axes>"
      ]
     },
     "metadata": {},
     "output_type": "display_data"
    }
   ],
   "source": [
    "# indexing of a matrix in Python (numpy) is [rows, cols]\n",
    "_ = plt.scatter(tr_pca[:, 0], tr_pca[:, 1], c=y_train)\n",
    "_ = plt.colorbar()"
   ]
  },
  {
   "cell_type": "markdown",
   "metadata": {},
   "source": [
    "Now let's look at the variation in the test set and the clustering is off of the target values in the test set."
   ]
  },
  {
   "cell_type": "code",
   "execution_count": 24,
   "metadata": {},
   "outputs": [
    {
     "data": {
      "image/png": "[encoded data removed]",
      "text/plain": [
       "<Figure size 432x288 with 2 Axes>"
      ]
     },
     "metadata": {},
     "output_type": "display_data"
    }
   ],
   "source": [
    "_ = plt.scatter(te_pca[:, 0], te_pca[:, 1], c=y_test)\n",
    "_ = plt.colorbar()"
   ]
  },
  {
   "cell_type": "markdown",
   "metadata": {},
   "source": [
    "Slight variation on the above graph, this time we will look at the test set and cluster based on our preditions from our KNN model above."
   ]
  },
  {
   "cell_type": "code",
   "execution_count": 25,
   "metadata": {},
   "outputs": [
    {
     "data": {
      "image/png": "[encoded data removed]",
      "text/plain": [
       "<Figure size 432x288 with 2 Axes>"
      ]
     },
     "metadata": {},
     "output_type": "display_data"
    }
   ],
   "source": [
    "_ = plt.scatter(te_pca[:, 0], te_pca[:, 1], c=preds)\n",
    "_ = plt.colorbar()"
   ]
  },
  {
   "cell_type": "markdown",
   "metadata": {},
   "source": [
    "Not as valuable of a graph, but we are here. We can look at the test set and cluster based on the differences between our test set and the predictions from our KN model."
   ]
  },
  {
   "cell_type": "code",
   "execution_count": 26,
   "metadata": {},
   "outputs": [
    {
     "data": {
      "image/png": "[encoded data removed]",
      "text/plain": [
       "<Figure size 432x288 with 2 Axes>"
      ]
     },
     "metadata": {},
     "output_type": "display_data"
    }
   ],
   "source": [
    "_ = plt.scatter(te_pca[:, 0], te_pca[:, 1], c=differs)\n",
    "_ = plt.colorbar()"
   ]
  },
  {
   "cell_type": "markdown",
   "metadata": {},
   "source": [
    "### Improving your model - Normalizing Data\n",
    "Normalization is a technique often applied as part of data preparation for machine learning. The goal of normalization is to change the values of numeric columns in the dataset to a common scale, without distorting differences in the ranges of values. For machine learning, every dataset does not require normalization. It is required only when features have different ranges.\n",
    "\n",
    "Let's take a look at our data set again."
   ]
  },
  {
   "cell_type": "code",
   "execution_count": 27,
   "metadata": {},
   "outputs": [
    {
     "data": {
      "text/html": [
       "<div>\n",
       "<style scoped>\n",
       "    .dataframe tbody tr th:only-of-type {\n",
       "        vertical-align: middle;\n",
       "    }\n",
       "\n",
       "    .dataframe tbody tr th {\n",
       "        vertical-align: top;\n",
       "    }\n",
       "\n",
       "    .dataframe thead th {\n",
       "        text-align: right;\n",
       "    }\n",
       "</style>\n",
       "<table border=\"1\" class=\"dataframe\">\n",
       "  <thead>\n",
       "    <tr style=\"text-align: right;\">\n",
       "      <th></th>\n",
       "      <th>mpg</th>\n",
       "      <th>cylinders</th>\n",
       "      <th>displacement</th>\n",
       "      <th>horsepower</th>\n",
       "      <th>weight</th>\n",
       "    </tr>\n",
       "  </thead>\n",
       "  <tbody>\n",
       "    <tr>\n",
       "      <th>count</th>\n",
       "      <td>398.000000</td>\n",
       "      <td>398.000000</td>\n",
       "      <td>398.000000</td>\n",
       "      <td>398.000000</td>\n",
       "      <td>398.000000</td>\n",
       "    </tr>\n",
       "    <tr>\n",
       "      <th>mean</th>\n",
       "      <td>23.514573</td>\n",
       "      <td>5.454774</td>\n",
       "      <td>193.425879</td>\n",
       "      <td>104.127154</td>\n",
       "      <td>2970.424623</td>\n",
       "    </tr>\n",
       "    <tr>\n",
       "      <th>std</th>\n",
       "      <td>7.815984</td>\n",
       "      <td>1.701004</td>\n",
       "      <td>104.269838</td>\n",
       "      <td>38.315134</td>\n",
       "      <td>846.841774</td>\n",
       "    </tr>\n",
       "    <tr>\n",
       "      <th>min</th>\n",
       "      <td>9.000000</td>\n",
       "      <td>3.000000</td>\n",
       "      <td>68.000000</td>\n",
       "      <td>46.000000</td>\n",
       "      <td>1613.000000</td>\n",
       "    </tr>\n",
       "    <tr>\n",
       "      <th>25%</th>\n",
       "      <td>17.500000</td>\n",
       "      <td>4.000000</td>\n",
       "      <td>104.250000</td>\n",
       "      <td>75.000000</td>\n",
       "      <td>2223.750000</td>\n",
       "    </tr>\n",
       "    <tr>\n",
       "      <th>50%</th>\n",
       "      <td>23.000000</td>\n",
       "      <td>4.000000</td>\n",
       "      <td>148.500000</td>\n",
       "      <td>92.000000</td>\n",
       "      <td>2803.500000</td>\n",
       "    </tr>\n",
       "    <tr>\n",
       "      <th>75%</th>\n",
       "      <td>29.000000</td>\n",
       "      <td>8.000000</td>\n",
       "      <td>262.000000</td>\n",
       "      <td>125.000000</td>\n",
       "      <td>3608.000000</td>\n",
       "    </tr>\n",
       "    <tr>\n",
       "      <th>max</th>\n",
       "      <td>46.600000</td>\n",
       "      <td>8.000000</td>\n",
       "      <td>455.000000</td>\n",
       "      <td>230.000000</td>\n",
       "      <td>5140.000000</td>\n",
       "    </tr>\n",
       "  </tbody>\n",
       "</table>\n",
       "</div>"
      ],
      "text/plain": [
       "              mpg   cylinders  displacement  horsepower       weight\n",
       "count  398.000000  398.000000    398.000000  398.000000   398.000000\n",
       "mean    23.514573    5.454774    193.425879  104.127154  2970.424623\n",
       "std      7.815984    1.701004    104.269838   38.315134   846.841774\n",
       "min      9.000000    3.000000     68.000000   46.000000  1613.000000\n",
       "25%     17.500000    4.000000    104.250000   75.000000  2223.750000\n",
       "50%     23.000000    4.000000    148.500000   92.000000  2803.500000\n",
       "75%     29.000000    8.000000    262.000000  125.000000  3608.000000\n",
       "max     46.600000    8.000000    455.000000  230.000000  5140.000000"
      ]
     },
     "execution_count": 27,
     "metadata": {},
     "output_type": "execute_result"
    }
   ],
   "source": [
    "auto.describe()"
   ]
  },
  {
   "cell_type": "code",
   "execution_count": 28,
   "metadata": {},
   "outputs": [
    {
     "data": {
      "text/html": [
       "<div>\n",
       "<style scoped>\n",
       "    .dataframe tbody tr th:only-of-type {\n",
       "        vertical-align: middle;\n",
       "    }\n",
       "\n",
       "    .dataframe tbody tr th {\n",
       "        vertical-align: top;\n",
       "    }\n",
       "\n",
       "    .dataframe thead th {\n",
       "        text-align: right;\n",
       "    }\n",
       "</style>\n",
       "<table border=\"1\" class=\"dataframe\">\n",
       "  <thead>\n",
       "    <tr style=\"text-align: right;\">\n",
       "      <th></th>\n",
       "      <th>mpg</th>\n",
       "      <th>cylinders</th>\n",
       "      <th>displacement</th>\n",
       "      <th>horsepower</th>\n",
       "      <th>weight</th>\n",
       "    </tr>\n",
       "  </thead>\n",
       "  <tbody>\n",
       "    <tr>\n",
       "      <th>0</th>\n",
       "      <td>18.0</td>\n",
       "      <td>8</td>\n",
       "      <td>307.0</td>\n",
       "      <td>130.0</td>\n",
       "      <td>3504</td>\n",
       "    </tr>\n",
       "    <tr>\n",
       "      <th>1</th>\n",
       "      <td>15.0</td>\n",
       "      <td>8</td>\n",
       "      <td>350.0</td>\n",
       "      <td>165.0</td>\n",
       "      <td>3693</td>\n",
       "    </tr>\n",
       "    <tr>\n",
       "      <th>2</th>\n",
       "      <td>18.0</td>\n",
       "      <td>8</td>\n",
       "      <td>318.0</td>\n",
       "      <td>150.0</td>\n",
       "      <td>3436</td>\n",
       "    </tr>\n",
       "    <tr>\n",
       "      <th>3</th>\n",
       "      <td>16.0</td>\n",
       "      <td>8</td>\n",
       "      <td>304.0</td>\n",
       "      <td>150.0</td>\n",
       "      <td>3433</td>\n",
       "    </tr>\n",
       "    <tr>\n",
       "      <th>4</th>\n",
       "      <td>17.0</td>\n",
       "      <td>8</td>\n",
       "      <td>302.0</td>\n",
       "      <td>140.0</td>\n",
       "      <td>3449</td>\n",
       "    </tr>\n",
       "    <tr>\n",
       "      <th>5</th>\n",
       "      <td>15.0</td>\n",
       "      <td>8</td>\n",
       "      <td>429.0</td>\n",
       "      <td>198.0</td>\n",
       "      <td>4341</td>\n",
       "    </tr>\n",
       "    <tr>\n",
       "      <th>6</th>\n",
       "      <td>14.0</td>\n",
       "      <td>8</td>\n",
       "      <td>454.0</td>\n",
       "      <td>220.0</td>\n",
       "      <td>4354</td>\n",
       "    </tr>\n",
       "    <tr>\n",
       "      <th>7</th>\n",
       "      <td>14.0</td>\n",
       "      <td>8</td>\n",
       "      <td>440.0</td>\n",
       "      <td>215.0</td>\n",
       "      <td>4312</td>\n",
       "    </tr>\n",
       "    <tr>\n",
       "      <th>8</th>\n",
       "      <td>14.0</td>\n",
       "      <td>8</td>\n",
       "      <td>455.0</td>\n",
       "      <td>225.0</td>\n",
       "      <td>4425</td>\n",
       "    </tr>\n",
       "    <tr>\n",
       "      <th>9</th>\n",
       "      <td>15.0</td>\n",
       "      <td>8</td>\n",
       "      <td>390.0</td>\n",
       "      <td>190.0</td>\n",
       "      <td>3850</td>\n",
       "    </tr>\n",
       "  </tbody>\n",
       "</table>\n",
       "</div>"
      ],
      "text/plain": [
       "    mpg  cylinders  displacement  horsepower  weight\n",
       "0  18.0          8         307.0       130.0    3504\n",
       "1  15.0          8         350.0       165.0    3693\n",
       "2  18.0          8         318.0       150.0    3436\n",
       "3  16.0          8         304.0       150.0    3433\n",
       "4  17.0          8         302.0       140.0    3449\n",
       "5  15.0          8         429.0       198.0    4341\n",
       "6  14.0          8         454.0       220.0    4354\n",
       "7  14.0          8         440.0       215.0    4312\n",
       "8  14.0          8         455.0       225.0    4425\n",
       "9  15.0          8         390.0       190.0    3850"
      ]
     },
     "execution_count": 28,
     "metadata": {},
     "output_type": "execute_result"
    }
   ],
   "source": [
    "auto.head(10)"
   ]
  },
  {
   "cell_type": "markdown",
   "metadata": {},
   "source": [
    "We can see that our data set does have quite a bit of variation in the scale f each column.  So, let's try normalizing our data set.\n",
    "\n",
    "There are a number of methods to achieve this result, but I'm going to stick to the methods that are included in the sklearn package `preprocessing` and use the MinMaxScaler().\n",
    "\n",
    "[MinMaxScaler::](https://scikit-learn.org/stable/modules/generated/sklearn.preprocessing.MinMaxScaler.html) This estimator scales and translates each feature individually such that it is in the given range on the training set, e.g. between zero and one.\n",
    "\n",
    "The transformation is given by:<br>\n",
    "X_std = (X - X.min(axis=0)) / (X.max(axis=0) - X.min(axis=0))<br>\n",
    "X_scaled = X_std * (max - min) + min where min, max = feature_range.\n",
    "\n",
    "Another popular scaler is [sklear.preprocessing.StandardScaler](https://scikit-learn.org/stable/modules/generated/sklearn.preprocessing.StandardScaler.html)"
   ]
  },
  {
   "cell_type": "markdown",
   "metadata": {},
   "source": [
    "Remember that you have already seperated our feature columns from our target column from above. \n",
    "\n",
    "X = features (cylinders, displacement, horsepower, weight)\n",
    "y = target (mpg)"
   ]
  },
  {
   "cell_type": "code",
   "execution_count": 29,
   "metadata": {},
   "outputs": [],
   "source": [
    "# we only want to normalize our feature columns in the dataset and I don't want to resplit the dataset.\n",
    "# So, I will normalize the X_train and X_test only\n",
    "from sklearn import preprocessing\n",
    "\n",
    "min_max_scaler = preprocessing.MinMaxScaler()\n",
    "\n",
    "X_tr_norm = min_max_scaler.fit_transform(X_train)\n",
    "X_te_norm = min_max_scaler.fit_transform(X_test)"
   ]
  },
  {
   "cell_type": "markdown",
   "metadata": {},
   "source": [
    "Let's reconstruct the train and test sets as dataframes to visually see what the normalized data looks like"
   ]
  },
  {
   "cell_type": "code",
   "execution_count": 30,
   "metadata": {},
   "outputs": [
    {
     "data": {
      "text/html": [
       "<div>\n",
       "<style scoped>\n",
       "    .dataframe tbody tr th:only-of-type {\n",
       "        vertical-align: middle;\n",
       "    }\n",
       "\n",
       "    .dataframe tbody tr th {\n",
       "        vertical-align: top;\n",
       "    }\n",
       "\n",
       "    .dataframe thead th {\n",
       "        text-align: right;\n",
       "    }\n",
       "</style>\n",
       "<table border=\"1\" class=\"dataframe\">\n",
       "  <thead>\n",
       "    <tr style=\"text-align: right;\">\n",
       "      <th></th>\n",
       "      <th>cylinders</th>\n",
       "      <th>displacement</th>\n",
       "      <th>horsepower</th>\n",
       "      <th>weight</th>\n",
       "      <th>mpg</th>\n",
       "    </tr>\n",
       "  </thead>\n",
       "  <tbody>\n",
       "    <tr>\n",
       "      <th>0</th>\n",
       "      <td>1.0</td>\n",
       "      <td>0.609819</td>\n",
       "      <td>0.581006</td>\n",
       "      <td>0.516019</td>\n",
       "      <td>16.0</td>\n",
       "    </tr>\n",
       "    <tr>\n",
       "      <th>1</th>\n",
       "      <td>0.2</td>\n",
       "      <td>0.074935</td>\n",
       "      <td>0.234637</td>\n",
       "      <td>0.146583</td>\n",
       "      <td>27.0</td>\n",
       "    </tr>\n",
       "    <tr>\n",
       "      <th>2</th>\n",
       "      <td>0.2</td>\n",
       "      <td>0.059432</td>\n",
       "      <td>0.122905</td>\n",
       "      <td>0.116813</td>\n",
       "      <td>37.0</td>\n",
       "    </tr>\n",
       "    <tr>\n",
       "      <th>3</th>\n",
       "      <td>0.2</td>\n",
       "      <td>0.059432</td>\n",
       "      <td>0.078212</td>\n",
       "      <td>0.053020</td>\n",
       "      <td>36.1</td>\n",
       "    </tr>\n",
       "    <tr>\n",
       "      <th>4</th>\n",
       "      <td>0.2</td>\n",
       "      <td>0.121447</td>\n",
       "      <td>0.273743</td>\n",
       "      <td>0.306493</td>\n",
       "      <td>23.0</td>\n",
       "    </tr>\n",
       "    <tr>\n",
       "      <th>5</th>\n",
       "      <td>1.0</td>\n",
       "      <td>0.857881</td>\n",
       "      <td>0.720670</td>\n",
       "      <td>0.785937</td>\n",
       "      <td>14.0</td>\n",
       "    </tr>\n",
       "    <tr>\n",
       "      <th>6</th>\n",
       "      <td>0.2</td>\n",
       "      <td>0.025840</td>\n",
       "      <td>0.033520</td>\n",
       "      <td>0.105472</td>\n",
       "      <td>32.8</td>\n",
       "    </tr>\n",
       "    <tr>\n",
       "      <th>7</th>\n",
       "      <td>0.2</td>\n",
       "      <td>0.077519</td>\n",
       "      <td>0.106145</td>\n",
       "      <td>0.217465</td>\n",
       "      <td>29.9</td>\n",
       "    </tr>\n",
       "    <tr>\n",
       "      <th>8</th>\n",
       "      <td>0.2</td>\n",
       "      <td>0.074935</td>\n",
       "      <td>0.234637</td>\n",
       "      <td>0.188829</td>\n",
       "      <td>20.0</td>\n",
       "    </tr>\n",
       "    <tr>\n",
       "      <th>9</th>\n",
       "      <td>1.0</td>\n",
       "      <td>0.932817</td>\n",
       "      <td>0.849162</td>\n",
       "      <td>0.946697</td>\n",
       "      <td>12.0</td>\n",
       "    </tr>\n",
       "  </tbody>\n",
       "</table>\n",
       "</div>"
      ],
      "text/plain": [
       "   cylinders  displacement  horsepower    weight   mpg\n",
       "0        1.0      0.609819    0.581006  0.516019  16.0\n",
       "1        0.2      0.074935    0.234637  0.146583  27.0\n",
       "2        0.2      0.059432    0.122905  0.116813  37.0\n",
       "3        0.2      0.059432    0.078212  0.053020  36.1\n",
       "4        0.2      0.121447    0.273743  0.306493  23.0\n",
       "5        1.0      0.857881    0.720670  0.785937  14.0\n",
       "6        0.2      0.025840    0.033520  0.105472  32.8\n",
       "7        0.2      0.077519    0.106145  0.217465  29.9\n",
       "8        0.2      0.074935    0.234637  0.188829  20.0\n",
       "9        1.0      0.932817    0.849162  0.946697  12.0"
      ]
     },
     "execution_count": 30,
     "metadata": {},
     "output_type": "execute_result"
    }
   ],
   "source": [
    "new_auto_tr = pd.DataFrame(X_tr_norm,columns=feat_cols)\n",
    "new_auto_tr['mpg'] = y_train\n",
    "new_auto_tr.head(10)"
   ]
  },
  {
   "cell_type": "code",
   "execution_count": 31,
   "metadata": {},
   "outputs": [
    {
     "data": {
      "text/html": [
       "<div>\n",
       "<style scoped>\n",
       "    .dataframe tbody tr th:only-of-type {\n",
       "        vertical-align: middle;\n",
       "    }\n",
       "\n",
       "    .dataframe tbody tr th {\n",
       "        vertical-align: top;\n",
       "    }\n",
       "\n",
       "    .dataframe thead th {\n",
       "        text-align: right;\n",
       "    }\n",
       "</style>\n",
       "<table border=\"1\" class=\"dataframe\">\n",
       "  <thead>\n",
       "    <tr style=\"text-align: right;\">\n",
       "      <th></th>\n",
       "      <th>cylinders</th>\n",
       "      <th>displacement</th>\n",
       "      <th>horsepower</th>\n",
       "      <th>weight</th>\n",
       "      <th>mpg</th>\n",
       "    </tr>\n",
       "  </thead>\n",
       "  <tbody>\n",
       "    <tr>\n",
       "      <th>0</th>\n",
       "      <td>0.0</td>\n",
       "      <td>0.014124</td>\n",
       "      <td>0.005618</td>\n",
       "      <td>0.000000</td>\n",
       "      <td>33.0</td>\n",
       "    </tr>\n",
       "    <tr>\n",
       "      <th>1</th>\n",
       "      <td>0.0</td>\n",
       "      <td>0.096045</td>\n",
       "      <td>0.151685</td>\n",
       "      <td>0.262658</td>\n",
       "      <td>28.0</td>\n",
       "    </tr>\n",
       "    <tr>\n",
       "      <th>2</th>\n",
       "      <td>0.5</td>\n",
       "      <td>0.412429</td>\n",
       "      <td>0.269663</td>\n",
       "      <td>0.265506</td>\n",
       "      <td>19.0</td>\n",
       "    </tr>\n",
       "    <tr>\n",
       "      <th>3</th>\n",
       "      <td>1.0</td>\n",
       "      <td>0.655367</td>\n",
       "      <td>0.550562</td>\n",
       "      <td>0.678797</td>\n",
       "      <td>13.0</td>\n",
       "    </tr>\n",
       "    <tr>\n",
       "      <th>4</th>\n",
       "      <td>1.0</td>\n",
       "      <td>0.655367</td>\n",
       "      <td>0.550562</td>\n",
       "      <td>0.772785</td>\n",
       "      <td>14.0</td>\n",
       "    </tr>\n",
       "    <tr>\n",
       "      <th>5</th>\n",
       "      <td>0.0</td>\n",
       "      <td>0.031073</td>\n",
       "      <td>0.202247</td>\n",
       "      <td>0.096519</td>\n",
       "      <td>27.0</td>\n",
       "    </tr>\n",
       "    <tr>\n",
       "      <th>6</th>\n",
       "      <td>0.0</td>\n",
       "      <td>0.152542</td>\n",
       "      <td>0.224719</td>\n",
       "      <td>0.338608</td>\n",
       "      <td>24.0</td>\n",
       "    </tr>\n",
       "    <tr>\n",
       "      <th>7</th>\n",
       "      <td>1.0</td>\n",
       "      <td>1.000000</td>\n",
       "      <td>0.915730</td>\n",
       "      <td>0.930380</td>\n",
       "      <td>13.0</td>\n",
       "    </tr>\n",
       "    <tr>\n",
       "      <th>8</th>\n",
       "      <td>1.0</td>\n",
       "      <td>0.491525</td>\n",
       "      <td>0.325843</td>\n",
       "      <td>0.716772</td>\n",
       "      <td>17.0</td>\n",
       "    </tr>\n",
       "    <tr>\n",
       "      <th>9</th>\n",
       "      <td>0.5</td>\n",
       "      <td>0.322034</td>\n",
       "      <td>0.239830</td>\n",
       "      <td>0.341772</td>\n",
       "      <td>21.0</td>\n",
       "    </tr>\n",
       "  </tbody>\n",
       "</table>\n",
       "</div>"
      ],
      "text/plain": [
       "   cylinders  displacement  horsepower    weight   mpg\n",
       "0        0.0      0.014124    0.005618  0.000000  33.0\n",
       "1        0.0      0.096045    0.151685  0.262658  28.0\n",
       "2        0.5      0.412429    0.269663  0.265506  19.0\n",
       "3        1.0      0.655367    0.550562  0.678797  13.0\n",
       "4        1.0      0.655367    0.550562  0.772785  14.0\n",
       "5        0.0      0.031073    0.202247  0.096519  27.0\n",
       "6        0.0      0.152542    0.224719  0.338608  24.0\n",
       "7        1.0      1.000000    0.915730  0.930380  13.0\n",
       "8        1.0      0.491525    0.325843  0.716772  17.0\n",
       "9        0.5      0.322034    0.239830  0.341772  21.0"
      ]
     },
     "execution_count": 31,
     "metadata": {},
     "output_type": "execute_result"
    }
   ],
   "source": [
    "new_auto_te = pd.DataFrame(X_te_norm,columns=feat_cols)\n",
    "new_auto_te['mpg'] = y_test\n",
    "new_auto_te.head(10)"
   ]
  },
  {
   "cell_type": "markdown",
   "metadata": {},
   "source": [
    "I'm not going to randomly guess at a number of clusters to use, we will want the optimal number eventually."
   ]
  },
  {
   "cell_type": "code",
   "execution_count": 32,
   "metadata": {},
   "outputs": [
    {
     "name": "stdout",
     "output_type": "stream",
     "text": [
      "Features: ['cylinders', 'displacement', 'horsepower', 'weight'] \n",
      "Target: mpg\n",
      "Evaluating 2 clusters\n",
      "Evaluating 3 clusters\n",
      "Evaluating 4 clusters\n",
      "Evaluating 5 clusters\n",
      "Evaluating 6 clusters\n",
      "Evaluating 7 clusters\n",
      "Evaluating 8 clusters\n",
      "Evaluating 9 clusters\n",
      "Evaluating 10 clusters\n",
      "Evaluating 11 clusters\n",
      "Evaluating 12 clusters\n",
      "Evaluating 13 clusters\n",
      "Evaluating 14 clusters\n",
      "Evaluating 15 clusters\n",
      "Evaluating 16 clusters\n",
      "Evaluating 17 clusters\n",
      "Evaluating 18 clusters\n",
      "Evaluating 19 clusters\n"
     ]
    }
   ],
   "source": [
    "scores_norm = []\n",
    "print(f'Features: {feat_cols} \\nTarget: {target_col}')\n",
    "\n",
    "# remember the ending number for range is not inclusive\n",
    "for k in range(2, 20):\n",
    "    # output to let us know where we are\n",
    "    print(f'Evaluating {k} clusters')\n",
    "    \n",
    "    # n_jobs=-1 will use all processors on your system\n",
    "    model_norm = KNeighborsRegressor(n_neighbors=k, n_jobs=-1)\n",
    "    model_norm.fit(X_tr_norm, y_train)\n",
    "    scores_norm.append(model_norm.score(X_te_norm, y_test))"
   ]
  },
  {
   "cell_type": "code",
   "execution_count": 33,
   "metadata": {},
   "outputs": [
    {
     "data": {
      "image/png": "[encoded data removed]",
      "text/plain": [
       "<Figure size 432x288 with 1 Axes>"
      ]
     },
     "metadata": {},
     "output_type": "display_data"
    }
   ],
   "source": [
    "# display the resutls\n",
    "plt.plot(range(2, 20), scores_norm)\n",
    "plt.scatter(range(2, 20), scores_norm)\n",
    "plt.grid()\n",
    "_ =plt.xticks(range(2, 20))"
   ]
  },
  {
   "cell_type": "markdown",
   "metadata": {},
   "source": [
    "Oooohhh! It's a close call between k=9, K=12 and k=14.  I'm going to go with k=12, all three should really be looked at."
   ]
  },
  {
   "cell_type": "code",
   "execution_count": 35,
   "metadata": {},
   "outputs": [
    {
     "name": "stdout",
     "output_type": "stream",
     "text": [
      "Actuals for test data set\n",
      "[33.  28.  19.  13.  14.  27.  24.  13.  17.  21.  15.  38.  26.  15.\n",
      " 25.  12.  31.  17.  16.  31.  22.  22.  22.  33.5 18.  44.  26.  24.5\n",
      " 18.1 12.  27.  36.  23.  24.  37.2 16.  21.  19.2 16.  29.  26.8 27.\n",
      " 18.  10.  23.  36.  26.  25.  25.  25.  22.  34.1 32.4 13.  23.5 14.\n",
      " 18.5 29.8 28.  19.  11.  33.  23.  21.  23.  25.  23.8 34.4 24.5 13.\n",
      " 34.7 14.  15.  18.  25.  19.9 17.5 28.  29.  17. ]\n",
      "Predictions for test data set\n",
      "[32.91666667 27.31666667 19.70833333 15.475      15.29166667 26.73333333\n",
      " 24.45833333 13.375      16.7        20.125      14.29166667 34.38333333\n",
      " 34.38333333 15.75833333 28.36666667 13.         26.03333333 22.25833333\n",
      " 14.04166667 32.83333333 28.15833333 20.125      19.625      29.51666667\n",
      " 17.1        34.425      26.45833333 26.93333333 19.275      13.08333333\n",
      " 25.925      32.94166667 16.73333333 24.35       32.06666667 13.\n",
      " 22.53333333 16.525      14.53333333 27.63333333 22.53333333 33.25833333\n",
      " 22.68333333 12.58333333 25.43333333 27.40833333 30.         22.68333333\n",
      " 24.26666667 31.88333333 30.74166667 32.25833333 31.78333333 13.58333333\n",
      " 21.475      13.5        14.86666667 25.31666667 24.89166667 19.94166667\n",
      " 14.04166667 32.91666667 26.14166667 25.125      20.45833333 25.05833333\n",
      " 26.45833333 33.6        34.06666667 15.85833333 34.88333333 15.125\n",
      " 13.375      18.75       21.36666667 18.525      18.725      24.88333333\n",
      " 34.71666667 16.78333333]\n"
     ]
    }
   ],
   "source": [
    "# define and fit our model with k=12\n",
    "model_norm = KNeighborsRegressor(n_neighbors=12, n_jobs=-1)\n",
    "model_norm.fit(X_tr_norm, y_train)\n",
    "\n",
    "# gather the predictations that our model made for our test set\n",
    "preds_norm = model_norm.predict(X_te_norm)\n",
    "\n",
    "# display the actuals and predictions for the test set\n",
    "print('Actuals for test data set')\n",
    "print(y_test)\n",
    "print('Predictions for test data set')\n",
    "print(preds_norm)"
   ]
  },
  {
   "cell_type": "code",
   "execution_count": 36,
   "metadata": {},
   "outputs": [
    {
     "name": "stdout",
     "output_type": "stream",
     "text": [
      "Differences between the two sets:\n",
      "[ 0.08333333  0.68333333 -0.70833333 -2.475      -1.29166667  0.26666667\n",
      " -0.45833333 -0.375       0.3         0.875       0.70833333  3.61666667\n",
      " -8.38333333 -0.75833333 -3.36666667 -1.          4.96666667 -5.25833333\n",
      "  1.95833333 -1.83333333 -6.15833333  1.875       2.375       3.98333333\n",
      "  0.9         9.575      -0.45833333 -2.43333333 -1.175      -1.08333333\n",
      "  1.075       3.05833333  6.26666667 -0.35        5.13333333  3.\n",
      " -1.53333333  2.675       1.46666667  1.36666667  4.26666667 -6.25833333\n",
      " -4.68333333 -2.58333333 -2.43333333  8.59166667 -4.          2.31666667\n",
      "  0.73333333 -6.88333333 -8.74166667  1.84166667  0.61666667 -0.58333333\n",
      "  2.025       0.5         3.63333333  4.48333333  3.10833333 -0.94166667\n",
      " -3.04166667  0.08333333 -3.14166667 -4.125       2.54166667 -0.05833333\n",
      " -2.65833333  0.8        -9.56666667 -2.85833333 -0.18333333 -1.125\n",
      "  1.625      -0.75        3.63333333  1.375      -1.225       3.11666667\n",
      " -5.71666667  0.21666667]\n",
      "r2_score: 0.7659998015594169\n"
     ]
    }
   ],
   "source": [
    "differs_norm = y_test - preds_norm\n",
    "\n",
    "print(f'Differences between the two sets:\\n{differs_norm}')\n",
    "\n",
    "print(f'r2_score: {r2_score(y_test,preds_norm)}')"
   ]
  },
  {
   "cell_type": "markdown",
   "metadata": {},
   "source": [
    "Let's compare the r2_scores between our two data sets (auto and new_auto)<br>\n",
    "   * original: r2_score = 0.7863\n",
    "   * normalized data: r2_score = 0.766\n",
    "   \n",
    "Very interesting!  The normalized data actually perform worse in this instance. There is not guarantee that normalizing your data will improve the accuracy of your model.  It's just one technique available to use.\n",
    "\n",
    "Here are some suggestions:<br>\n",
    "1) Add more data<br>\n",
    "2) Treat missing and Outlier values<br>\n",
    "3) Feature Engineering<br>\n",
    "4) Feature Selection<br>\n",
    "5) Multiple algorithms<br>\n",
    "6) Algorithm Tuning<br>\n",
    "7) Cross Validation<br>"
   ]
  },
  {
   "cell_type": "code",
   "execution_count": null,
   "metadata": {},
   "outputs": [],
   "source": []
  }
 ],
 "metadata": {
  "kernelspec": {
   "display_name": "Python 3",
   "language": "python",
   "name": "python3"
  },
  "language_info": {
   "codemirror_mode": {
    "name": "ipython",
    "version": 3
   },
   "file_extension": ".py",
   "mimetype": "text/x-python",
   "name": "python",
   "nbconvert_exporter": "python",
   "pygments_lexer": "ipython3",
   "version": "3.8.8"
  }
 },
 "nbformat": 4,
 "nbformat_minor": 4
}

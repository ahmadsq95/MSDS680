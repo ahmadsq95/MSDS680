{
 "cells": [
  {
   "cell_type": "markdown",
   "metadata": {},
   "source": [
    "## Assignment for Week 7 - Performance Evaluations\n",
    "\n",
    "### Project:\n",
    "#### Performance Evaluations: ROC Curves\n",
    "\n",
    "Bank Marketing data:  https://archive.ics.uci.edu/ml/datasets/bank+marketing. Use the bank-additional-full.csv.\n",
    "\n",
    "The data is related with direct marketing campaigns of a Portuguese banking institution. The marketing campaigns were based on phone calls. Often, more than one contact to the same client was required, in order to access if the product (bank term deposit) would be ('yes') or not ('no') subscribed. \n",
    "\n",
    "From the given data set, complete the following:\n",
    "  * Try 3 different types of models to make classification predictions on the bank marketing dataset \n",
    "  * Calculate the AUC score as a comparison, and at least 2 other metrics (ie: accuracy, F1 score, precision, recall, etc) \n",
    "      - Compare the models’ performance on the same train/test splits \n",
    "  * Plot the ROC curve from the best model, choose what you think the best threshold value is for making predictions"
   ]
  },
  {
   "cell_type": "markdown",
   "metadata": {},
   "source": [
    "### Deliverables:\n",
    "\n",
    "Upload your notebook's .ipynb file and pdf printouts.\n",
    "   \n",
    "**Important:** Make sure your provide complete and thorough explanations for all of your analysis. You need to defend your thought processes and reasoning."
   ]
  },
  {
   "cell_type": "markdown",
   "metadata": {},
   "source": [
    "    Importing required packages for handling data, plotting, modeling, and metrics. "
   ]
  },
  {
   "cell_type": "code",
   "execution_count": 1,
   "metadata": {},
   "outputs": [],
   "source": [
    "import pandas as pd\n",
    "import numpy as np\n",
    "\n",
    "import matplotlib.pyplot as plt\n",
    "%matplotlib inline\n",
    "import seaborn as sns\n",
    "\n",
    "from sklearn.linear_model import LogisticRegression\n",
    "from sklearn.model_selection import train_test_split, cross_val_score, cross_val_predict\n",
    "from sklearn.neighbors import KNeighborsClassifier\n",
    "from sklearn.naive_bayes import GaussianNB\n",
    "from sklearn import tree\n",
    "from sklearn.metrics import r2_score, explained_variance_score, confusion_matrix,accuracy_score, classification_report, roc_auc_score, roc_curve\n",
    "    \n",
    "import warnings\n",
    "warnings.filterwarnings(\"ignore\")"
   ]
  },
  {
   "cell_type": "markdown",
   "metadata": {},
   "source": [
    "    Loading Bank data"
   ]
  },
  {
   "cell_type": "code",
   "execution_count": 2,
   "metadata": {},
   "outputs": [],
   "source": [
    "bank = pd.read_csv(\"bank-additional-full.csv\", sep = ';')"
   ]
  },
  {
   "cell_type": "code",
   "execution_count": 3,
   "metadata": {},
   "outputs": [
    {
     "name": "stdout",
     "output_type": "stream",
     "text": [
      "<class 'pandas.core.frame.DataFrame'>\n",
      "RangeIndex: 41188 entries, 0 to 41187\n",
      "Data columns (total 21 columns):\n",
      " #   Column          Non-Null Count  Dtype  \n",
      "---  ------          --------------  -----  \n",
      " 0   age             41188 non-null  int64  \n",
      " 1   job             41188 non-null  object \n",
      " 2   marital         41188 non-null  object \n",
      " 3   education       41188 non-null  object \n",
      " 4   default         41188 non-null  object \n",
      " 5   housing         41188 non-null  object \n",
      " 6   loan            41188 non-null  object \n",
      " 7   contact         41188 non-null  object \n",
      " 8   month           41188 non-null  object \n",
      " 9   day_of_week     41188 non-null  object \n",
      " 10  duration        41188 non-null  int64  \n",
      " 11  campaign        41188 non-null  int64  \n",
      " 12  pdays           41188 non-null  int64  \n",
      " 13  previous        41188 non-null  int64  \n",
      " 14  poutcome        41188 non-null  object \n",
      " 15  emp.var.rate    41188 non-null  float64\n",
      " 16  cons.price.idx  41188 non-null  float64\n",
      " 17  cons.conf.idx   41188 non-null  float64\n",
      " 18  euribor3m       41188 non-null  float64\n",
      " 19  nr.employed     41188 non-null  float64\n",
      " 20  y               41188 non-null  object \n",
      "dtypes: float64(5), int64(5), object(11)\n",
      "memory usage: 6.6+ MB\n"
     ]
    }
   ],
   "source": [
    "bank.info()"
   ]
  },
  {
   "cell_type": "code",
   "execution_count": 4,
   "metadata": {},
   "outputs": [
    {
     "data": {
      "text/html": [
       "<div>\n",
       "<style scoped>\n",
       "    .dataframe tbody tr th:only-of-type {\n",
       "        vertical-align: middle;\n",
       "    }\n",
       "\n",
       "    .dataframe tbody tr th {\n",
       "        vertical-align: top;\n",
       "    }\n",
       "\n",
       "    .dataframe thead th {\n",
       "        text-align: right;\n",
       "    }\n",
       "</style>\n",
       "<table border=\"1\" class=\"dataframe\">\n",
       "  <thead>\n",
       "    <tr style=\"text-align: right;\">\n",
       "      <th></th>\n",
       "      <th>age</th>\n",
       "      <th>job</th>\n",
       "      <th>marital</th>\n",
       "      <th>education</th>\n",
       "      <th>default</th>\n",
       "      <th>housing</th>\n",
       "      <th>loan</th>\n",
       "      <th>contact</th>\n",
       "      <th>month</th>\n",
       "      <th>day_of_week</th>\n",
       "      <th>...</th>\n",
       "      <th>campaign</th>\n",
       "      <th>pdays</th>\n",
       "      <th>previous</th>\n",
       "      <th>poutcome</th>\n",
       "      <th>emp.var.rate</th>\n",
       "      <th>cons.price.idx</th>\n",
       "      <th>cons.conf.idx</th>\n",
       "      <th>euribor3m</th>\n",
       "      <th>nr.employed</th>\n",
       "      <th>y</th>\n",
       "    </tr>\n",
       "  </thead>\n",
       "  <tbody>\n",
       "    <tr>\n",
       "      <th>0</th>\n",
       "      <td>56</td>\n",
       "      <td>housemaid</td>\n",
       "      <td>married</td>\n",
       "      <td>basic.4y</td>\n",
       "      <td>no</td>\n",
       "      <td>no</td>\n",
       "      <td>no</td>\n",
       "      <td>telephone</td>\n",
       "      <td>may</td>\n",
       "      <td>mon</td>\n",
       "      <td>...</td>\n",
       "      <td>1</td>\n",
       "      <td>999</td>\n",
       "      <td>0</td>\n",
       "      <td>nonexistent</td>\n",
       "      <td>1.1</td>\n",
       "      <td>93.994</td>\n",
       "      <td>-36.4</td>\n",
       "      <td>4.857</td>\n",
       "      <td>5191.0</td>\n",
       "      <td>no</td>\n",
       "    </tr>\n",
       "    <tr>\n",
       "      <th>1</th>\n",
       "      <td>57</td>\n",
       "      <td>services</td>\n",
       "      <td>married</td>\n",
       "      <td>high.school</td>\n",
       "      <td>unknown</td>\n",
       "      <td>no</td>\n",
       "      <td>no</td>\n",
       "      <td>telephone</td>\n",
       "      <td>may</td>\n",
       "      <td>mon</td>\n",
       "      <td>...</td>\n",
       "      <td>1</td>\n",
       "      <td>999</td>\n",
       "      <td>0</td>\n",
       "      <td>nonexistent</td>\n",
       "      <td>1.1</td>\n",
       "      <td>93.994</td>\n",
       "      <td>-36.4</td>\n",
       "      <td>4.857</td>\n",
       "      <td>5191.0</td>\n",
       "      <td>no</td>\n",
       "    </tr>\n",
       "    <tr>\n",
       "      <th>2</th>\n",
       "      <td>37</td>\n",
       "      <td>services</td>\n",
       "      <td>married</td>\n",
       "      <td>high.school</td>\n",
       "      <td>no</td>\n",
       "      <td>yes</td>\n",
       "      <td>no</td>\n",
       "      <td>telephone</td>\n",
       "      <td>may</td>\n",
       "      <td>mon</td>\n",
       "      <td>...</td>\n",
       "      <td>1</td>\n",
       "      <td>999</td>\n",
       "      <td>0</td>\n",
       "      <td>nonexistent</td>\n",
       "      <td>1.1</td>\n",
       "      <td>93.994</td>\n",
       "      <td>-36.4</td>\n",
       "      <td>4.857</td>\n",
       "      <td>5191.0</td>\n",
       "      <td>no</td>\n",
       "    </tr>\n",
       "    <tr>\n",
       "      <th>3</th>\n",
       "      <td>40</td>\n",
       "      <td>admin.</td>\n",
       "      <td>married</td>\n",
       "      <td>basic.6y</td>\n",
       "      <td>no</td>\n",
       "      <td>no</td>\n",
       "      <td>no</td>\n",
       "      <td>telephone</td>\n",
       "      <td>may</td>\n",
       "      <td>mon</td>\n",
       "      <td>...</td>\n",
       "      <td>1</td>\n",
       "      <td>999</td>\n",
       "      <td>0</td>\n",
       "      <td>nonexistent</td>\n",
       "      <td>1.1</td>\n",
       "      <td>93.994</td>\n",
       "      <td>-36.4</td>\n",
       "      <td>4.857</td>\n",
       "      <td>5191.0</td>\n",
       "      <td>no</td>\n",
       "    </tr>\n",
       "    <tr>\n",
       "      <th>4</th>\n",
       "      <td>56</td>\n",
       "      <td>services</td>\n",
       "      <td>married</td>\n",
       "      <td>high.school</td>\n",
       "      <td>no</td>\n",
       "      <td>no</td>\n",
       "      <td>yes</td>\n",
       "      <td>telephone</td>\n",
       "      <td>may</td>\n",
       "      <td>mon</td>\n",
       "      <td>...</td>\n",
       "      <td>1</td>\n",
       "      <td>999</td>\n",
       "      <td>0</td>\n",
       "      <td>nonexistent</td>\n",
       "      <td>1.1</td>\n",
       "      <td>93.994</td>\n",
       "      <td>-36.4</td>\n",
       "      <td>4.857</td>\n",
       "      <td>5191.0</td>\n",
       "      <td>no</td>\n",
       "    </tr>\n",
       "  </tbody>\n",
       "</table>\n",
       "<p>5 rows × 21 columns</p>\n",
       "</div>"
      ],
      "text/plain": [
       "   age        job  marital    education  default housing loan    contact  \\\n",
       "0   56  housemaid  married     basic.4y       no      no   no  telephone   \n",
       "1   57   services  married  high.school  unknown      no   no  telephone   \n",
       "2   37   services  married  high.school       no     yes   no  telephone   \n",
       "3   40     admin.  married     basic.6y       no      no   no  telephone   \n",
       "4   56   services  married  high.school       no      no  yes  telephone   \n",
       "\n",
       "  month day_of_week  ...  campaign  pdays  previous     poutcome emp.var.rate  \\\n",
       "0   may         mon  ...         1    999         0  nonexistent          1.1   \n",
       "1   may         mon  ...         1    999         0  nonexistent          1.1   \n",
       "2   may         mon  ...         1    999         0  nonexistent          1.1   \n",
       "3   may         mon  ...         1    999         0  nonexistent          1.1   \n",
       "4   may         mon  ...         1    999         0  nonexistent          1.1   \n",
       "\n",
       "   cons.price.idx  cons.conf.idx  euribor3m  nr.employed   y  \n",
       "0          93.994          -36.4      4.857       5191.0  no  \n",
       "1          93.994          -36.4      4.857       5191.0  no  \n",
       "2          93.994          -36.4      4.857       5191.0  no  \n",
       "3          93.994          -36.4      4.857       5191.0  no  \n",
       "4          93.994          -36.4      4.857       5191.0  no  \n",
       "\n",
       "[5 rows x 21 columns]"
      ]
     },
     "execution_count": 4,
     "metadata": {},
     "output_type": "execute_result"
    }
   ],
   "source": [
    "bank.head()"
   ]
  },
  {
   "cell_type": "code",
   "execution_count": 5,
   "metadata": {
    "scrolled": false
   },
   "outputs": [
    {
     "data": {
      "text/html": [
       "<div>\n",
       "<style scoped>\n",
       "    .dataframe tbody tr th:only-of-type {\n",
       "        vertical-align: middle;\n",
       "    }\n",
       "\n",
       "    .dataframe tbody tr th {\n",
       "        vertical-align: top;\n",
       "    }\n",
       "\n",
       "    .dataframe thead th {\n",
       "        text-align: right;\n",
       "    }\n",
       "</style>\n",
       "<table border=\"1\" class=\"dataframe\">\n",
       "  <thead>\n",
       "    <tr style=\"text-align: right;\">\n",
       "      <th></th>\n",
       "      <th>age</th>\n",
       "      <th>job</th>\n",
       "      <th>marital</th>\n",
       "      <th>education</th>\n",
       "      <th>default</th>\n",
       "      <th>housing</th>\n",
       "      <th>loan</th>\n",
       "      <th>contact</th>\n",
       "      <th>month</th>\n",
       "      <th>day_of_week</th>\n",
       "      <th>...</th>\n",
       "      <th>campaign</th>\n",
       "      <th>pdays</th>\n",
       "      <th>previous</th>\n",
       "      <th>poutcome</th>\n",
       "      <th>emp.var.rate</th>\n",
       "      <th>cons.price.idx</th>\n",
       "      <th>cons.conf.idx</th>\n",
       "      <th>euribor3m</th>\n",
       "      <th>nr.employed</th>\n",
       "      <th>y</th>\n",
       "    </tr>\n",
       "  </thead>\n",
       "  <tbody>\n",
       "    <tr>\n",
       "      <th>count</th>\n",
       "      <td>41188.00000</td>\n",
       "      <td>41188</td>\n",
       "      <td>41188</td>\n",
       "      <td>41188</td>\n",
       "      <td>41188</td>\n",
       "      <td>41188</td>\n",
       "      <td>41188</td>\n",
       "      <td>41188</td>\n",
       "      <td>41188</td>\n",
       "      <td>41188</td>\n",
       "      <td>...</td>\n",
       "      <td>41188.000000</td>\n",
       "      <td>41188.000000</td>\n",
       "      <td>41188.000000</td>\n",
       "      <td>41188</td>\n",
       "      <td>41188.000000</td>\n",
       "      <td>41188.000000</td>\n",
       "      <td>41188.000000</td>\n",
       "      <td>41188.000000</td>\n",
       "      <td>41188.000000</td>\n",
       "      <td>41188</td>\n",
       "    </tr>\n",
       "    <tr>\n",
       "      <th>unique</th>\n",
       "      <td>NaN</td>\n",
       "      <td>12</td>\n",
       "      <td>4</td>\n",
       "      <td>8</td>\n",
       "      <td>3</td>\n",
       "      <td>3</td>\n",
       "      <td>3</td>\n",
       "      <td>2</td>\n",
       "      <td>10</td>\n",
       "      <td>5</td>\n",
       "      <td>...</td>\n",
       "      <td>NaN</td>\n",
       "      <td>NaN</td>\n",
       "      <td>NaN</td>\n",
       "      <td>3</td>\n",
       "      <td>NaN</td>\n",
       "      <td>NaN</td>\n",
       "      <td>NaN</td>\n",
       "      <td>NaN</td>\n",
       "      <td>NaN</td>\n",
       "      <td>2</td>\n",
       "    </tr>\n",
       "    <tr>\n",
       "      <th>top</th>\n",
       "      <td>NaN</td>\n",
       "      <td>admin.</td>\n",
       "      <td>married</td>\n",
       "      <td>university.degree</td>\n",
       "      <td>no</td>\n",
       "      <td>yes</td>\n",
       "      <td>no</td>\n",
       "      <td>cellular</td>\n",
       "      <td>may</td>\n",
       "      <td>thu</td>\n",
       "      <td>...</td>\n",
       "      <td>NaN</td>\n",
       "      <td>NaN</td>\n",
       "      <td>NaN</td>\n",
       "      <td>nonexistent</td>\n",
       "      <td>NaN</td>\n",
       "      <td>NaN</td>\n",
       "      <td>NaN</td>\n",
       "      <td>NaN</td>\n",
       "      <td>NaN</td>\n",
       "      <td>no</td>\n",
       "    </tr>\n",
       "    <tr>\n",
       "      <th>freq</th>\n",
       "      <td>NaN</td>\n",
       "      <td>10422</td>\n",
       "      <td>24928</td>\n",
       "      <td>12168</td>\n",
       "      <td>32588</td>\n",
       "      <td>21576</td>\n",
       "      <td>33950</td>\n",
       "      <td>26144</td>\n",
       "      <td>13769</td>\n",
       "      <td>8623</td>\n",
       "      <td>...</td>\n",
       "      <td>NaN</td>\n",
       "      <td>NaN</td>\n",
       "      <td>NaN</td>\n",
       "      <td>35563</td>\n",
       "      <td>NaN</td>\n",
       "      <td>NaN</td>\n",
       "      <td>NaN</td>\n",
       "      <td>NaN</td>\n",
       "      <td>NaN</td>\n",
       "      <td>36548</td>\n",
       "    </tr>\n",
       "    <tr>\n",
       "      <th>mean</th>\n",
       "      <td>40.02406</td>\n",
       "      <td>NaN</td>\n",
       "      <td>NaN</td>\n",
       "      <td>NaN</td>\n",
       "      <td>NaN</td>\n",
       "      <td>NaN</td>\n",
       "      <td>NaN</td>\n",
       "      <td>NaN</td>\n",
       "      <td>NaN</td>\n",
       "      <td>NaN</td>\n",
       "      <td>...</td>\n",
       "      <td>2.567593</td>\n",
       "      <td>962.475454</td>\n",
       "      <td>0.172963</td>\n",
       "      <td>NaN</td>\n",
       "      <td>0.081886</td>\n",
       "      <td>93.575664</td>\n",
       "      <td>-40.502600</td>\n",
       "      <td>3.621291</td>\n",
       "      <td>5167.035911</td>\n",
       "      <td>NaN</td>\n",
       "    </tr>\n",
       "    <tr>\n",
       "      <th>std</th>\n",
       "      <td>10.42125</td>\n",
       "      <td>NaN</td>\n",
       "      <td>NaN</td>\n",
       "      <td>NaN</td>\n",
       "      <td>NaN</td>\n",
       "      <td>NaN</td>\n",
       "      <td>NaN</td>\n",
       "      <td>NaN</td>\n",
       "      <td>NaN</td>\n",
       "      <td>NaN</td>\n",
       "      <td>...</td>\n",
       "      <td>2.770014</td>\n",
       "      <td>186.910907</td>\n",
       "      <td>0.494901</td>\n",
       "      <td>NaN</td>\n",
       "      <td>1.570960</td>\n",
       "      <td>0.578840</td>\n",
       "      <td>4.628198</td>\n",
       "      <td>1.734447</td>\n",
       "      <td>72.251528</td>\n",
       "      <td>NaN</td>\n",
       "    </tr>\n",
       "    <tr>\n",
       "      <th>min</th>\n",
       "      <td>17.00000</td>\n",
       "      <td>NaN</td>\n",
       "      <td>NaN</td>\n",
       "      <td>NaN</td>\n",
       "      <td>NaN</td>\n",
       "      <td>NaN</td>\n",
       "      <td>NaN</td>\n",
       "      <td>NaN</td>\n",
       "      <td>NaN</td>\n",
       "      <td>NaN</td>\n",
       "      <td>...</td>\n",
       "      <td>1.000000</td>\n",
       "      <td>0.000000</td>\n",
       "      <td>0.000000</td>\n",
       "      <td>NaN</td>\n",
       "      <td>-3.400000</td>\n",
       "      <td>92.201000</td>\n",
       "      <td>-50.800000</td>\n",
       "      <td>0.634000</td>\n",
       "      <td>4963.600000</td>\n",
       "      <td>NaN</td>\n",
       "    </tr>\n",
       "    <tr>\n",
       "      <th>25%</th>\n",
       "      <td>32.00000</td>\n",
       "      <td>NaN</td>\n",
       "      <td>NaN</td>\n",
       "      <td>NaN</td>\n",
       "      <td>NaN</td>\n",
       "      <td>NaN</td>\n",
       "      <td>NaN</td>\n",
       "      <td>NaN</td>\n",
       "      <td>NaN</td>\n",
       "      <td>NaN</td>\n",
       "      <td>...</td>\n",
       "      <td>1.000000</td>\n",
       "      <td>999.000000</td>\n",
       "      <td>0.000000</td>\n",
       "      <td>NaN</td>\n",
       "      <td>-1.800000</td>\n",
       "      <td>93.075000</td>\n",
       "      <td>-42.700000</td>\n",
       "      <td>1.344000</td>\n",
       "      <td>5099.100000</td>\n",
       "      <td>NaN</td>\n",
       "    </tr>\n",
       "    <tr>\n",
       "      <th>50%</th>\n",
       "      <td>38.00000</td>\n",
       "      <td>NaN</td>\n",
       "      <td>NaN</td>\n",
       "      <td>NaN</td>\n",
       "      <td>NaN</td>\n",
       "      <td>NaN</td>\n",
       "      <td>NaN</td>\n",
       "      <td>NaN</td>\n",
       "      <td>NaN</td>\n",
       "      <td>NaN</td>\n",
       "      <td>...</td>\n",
       "      <td>2.000000</td>\n",
       "      <td>999.000000</td>\n",
       "      <td>0.000000</td>\n",
       "      <td>NaN</td>\n",
       "      <td>1.100000</td>\n",
       "      <td>93.749000</td>\n",
       "      <td>-41.800000</td>\n",
       "      <td>4.857000</td>\n",
       "      <td>5191.000000</td>\n",
       "      <td>NaN</td>\n",
       "    </tr>\n",
       "    <tr>\n",
       "      <th>75%</th>\n",
       "      <td>47.00000</td>\n",
       "      <td>NaN</td>\n",
       "      <td>NaN</td>\n",
       "      <td>NaN</td>\n",
       "      <td>NaN</td>\n",
       "      <td>NaN</td>\n",
       "      <td>NaN</td>\n",
       "      <td>NaN</td>\n",
       "      <td>NaN</td>\n",
       "      <td>NaN</td>\n",
       "      <td>...</td>\n",
       "      <td>3.000000</td>\n",
       "      <td>999.000000</td>\n",
       "      <td>0.000000</td>\n",
       "      <td>NaN</td>\n",
       "      <td>1.400000</td>\n",
       "      <td>93.994000</td>\n",
       "      <td>-36.400000</td>\n",
       "      <td>4.961000</td>\n",
       "      <td>5228.100000</td>\n",
       "      <td>NaN</td>\n",
       "    </tr>\n",
       "    <tr>\n",
       "      <th>max</th>\n",
       "      <td>98.00000</td>\n",
       "      <td>NaN</td>\n",
       "      <td>NaN</td>\n",
       "      <td>NaN</td>\n",
       "      <td>NaN</td>\n",
       "      <td>NaN</td>\n",
       "      <td>NaN</td>\n",
       "      <td>NaN</td>\n",
       "      <td>NaN</td>\n",
       "      <td>NaN</td>\n",
       "      <td>...</td>\n",
       "      <td>56.000000</td>\n",
       "      <td>999.000000</td>\n",
       "      <td>7.000000</td>\n",
       "      <td>NaN</td>\n",
       "      <td>1.400000</td>\n",
       "      <td>94.767000</td>\n",
       "      <td>-26.900000</td>\n",
       "      <td>5.045000</td>\n",
       "      <td>5228.100000</td>\n",
       "      <td>NaN</td>\n",
       "    </tr>\n",
       "  </tbody>\n",
       "</table>\n",
       "<p>11 rows × 21 columns</p>\n",
       "</div>"
      ],
      "text/plain": [
       "                age     job  marital          education default housing  \\\n",
       "count   41188.00000   41188    41188              41188   41188   41188   \n",
       "unique          NaN      12        4                  8       3       3   \n",
       "top             NaN  admin.  married  university.degree      no     yes   \n",
       "freq            NaN   10422    24928              12168   32588   21576   \n",
       "mean       40.02406     NaN      NaN                NaN     NaN     NaN   \n",
       "std        10.42125     NaN      NaN                NaN     NaN     NaN   \n",
       "min        17.00000     NaN      NaN                NaN     NaN     NaN   \n",
       "25%        32.00000     NaN      NaN                NaN     NaN     NaN   \n",
       "50%        38.00000     NaN      NaN                NaN     NaN     NaN   \n",
       "75%        47.00000     NaN      NaN                NaN     NaN     NaN   \n",
       "max        98.00000     NaN      NaN                NaN     NaN     NaN   \n",
       "\n",
       "         loan   contact  month day_of_week  ...      campaign         pdays  \\\n",
       "count   41188     41188  41188       41188  ...  41188.000000  41188.000000   \n",
       "unique      3         2     10           5  ...           NaN           NaN   \n",
       "top        no  cellular    may         thu  ...           NaN           NaN   \n",
       "freq    33950     26144  13769        8623  ...           NaN           NaN   \n",
       "mean      NaN       NaN    NaN         NaN  ...      2.567593    962.475454   \n",
       "std       NaN       NaN    NaN         NaN  ...      2.770014    186.910907   \n",
       "min       NaN       NaN    NaN         NaN  ...      1.000000      0.000000   \n",
       "25%       NaN       NaN    NaN         NaN  ...      1.000000    999.000000   \n",
       "50%       NaN       NaN    NaN         NaN  ...      2.000000    999.000000   \n",
       "75%       NaN       NaN    NaN         NaN  ...      3.000000    999.000000   \n",
       "max       NaN       NaN    NaN         NaN  ...     56.000000    999.000000   \n",
       "\n",
       "            previous     poutcome  emp.var.rate  cons.price.idx  \\\n",
       "count   41188.000000        41188  41188.000000    41188.000000   \n",
       "unique           NaN            3           NaN             NaN   \n",
       "top              NaN  nonexistent           NaN             NaN   \n",
       "freq             NaN        35563           NaN             NaN   \n",
       "mean        0.172963          NaN      0.081886       93.575664   \n",
       "std         0.494901          NaN      1.570960        0.578840   \n",
       "min         0.000000          NaN     -3.400000       92.201000   \n",
       "25%         0.000000          NaN     -1.800000       93.075000   \n",
       "50%         0.000000          NaN      1.100000       93.749000   \n",
       "75%         0.000000          NaN      1.400000       93.994000   \n",
       "max         7.000000          NaN      1.400000       94.767000   \n",
       "\n",
       "        cons.conf.idx     euribor3m   nr.employed      y  \n",
       "count    41188.000000  41188.000000  41188.000000  41188  \n",
       "unique            NaN           NaN           NaN      2  \n",
       "top               NaN           NaN           NaN     no  \n",
       "freq              NaN           NaN           NaN  36548  \n",
       "mean       -40.502600      3.621291   5167.035911    NaN  \n",
       "std          4.628198      1.734447     72.251528    NaN  \n",
       "min        -50.800000      0.634000   4963.600000    NaN  \n",
       "25%        -42.700000      1.344000   5099.100000    NaN  \n",
       "50%        -41.800000      4.857000   5191.000000    NaN  \n",
       "75%        -36.400000      4.961000   5228.100000    NaN  \n",
       "max        -26.900000      5.045000   5228.100000    NaN  \n",
       "\n",
       "[11 rows x 21 columns]"
      ]
     },
     "execution_count": 5,
     "metadata": {},
     "output_type": "execute_result"
    }
   ],
   "source": [
    "bank.describe(include='all')"
   ]
  },
  {
   "cell_type": "markdown",
   "metadata": {},
   "source": [
    "### Data Cleaning"
   ]
  },
  {
   "cell_type": "markdown",
   "metadata": {},
   "source": [
    "    In dataset documents missing values are labeled as \"unknown\". \n",
    "    \n",
    "    I'm going to convert categorical data into numeric to fit classification models. \n",
    "    For \"unknown\" values, I am going to replace it with -9, so I can convert them again to NA and handle them properly  "
   ]
  },
  {
   "cell_type": "code",
   "execution_count": 6,
   "metadata": {},
   "outputs": [],
   "source": [
    "bank['job'] = bank['job'].replace({'admin.':0,'blue-collar':1,'entrepreneur':2,'housemaid':3,'management':4,'retired':5,'self-employed':6,'services':7,'student':8,'technician':9,'unemployed':10,'unknown':-9})\n",
    "bank['marital'] = bank['marital'].replace({'divorced':0,'married':1,'single':2,'unknown':-9})\n",
    "bank['default'] = bank['default'].replace({'no': 0, 'yes': 1, 'unknown': -9})\n",
    "bank['education'] = bank['education'].replace({\"basic.4y\":0,\"basic.6y\":1,\"basic.9y\":2,\"high.school\":3,\"illiterate\":3,\"professional.course\":4,\"university.degree\":5,\"unknown\":-9})\n",
    "bank['housing'] = bank['housing'].replace({'yes':0,'no':1, \"unknown\":-9})\n",
    "bank['loan'] = bank['loan'].replace({'yes':0,'no':1,\"unknown\":-9})\n",
    "bank['day_of_week'] = bank['day_of_week'].replace({ \"mon\":1,\"tue\":2,\"wed\":3,\"thu\":4,\"fri\":5,\"unknown\":-9})\n",
    "bank['contact'] = bank['contact'].replace({\"unknown\":-9,\"telephone\":1,\"cellular\":2})\n",
    "bank['month'] = bank['month'].replace({'jan':1,'feb':2,'mar':3,'apr':4,'may':5,'jun':6,'jul':7,'aug':8,'sep':9,'oct':10,'nov':11,'dec':12, \"unknown\":-9})\n",
    "bank['poutcome'] = bank['poutcome'].replace({\"failure\":0,\"nonexistent\":2,\"success\":1})\n",
    "\n",
    "bank['y'] = bank['y'].replace({'no':0,'yes':1, \"unknown\":-9})"
   ]
  },
  {
   "cell_type": "code",
   "execution_count": 7,
   "metadata": {
    "scrolled": true
   },
   "outputs": [
    {
     "name": "stdout",
     "output_type": "stream",
     "text": [
      "<class 'pandas.core.frame.DataFrame'>\n",
      "RangeIndex: 41188 entries, 0 to 41187\n",
      "Data columns (total 21 columns):\n",
      " #   Column          Non-Null Count  Dtype  \n",
      "---  ------          --------------  -----  \n",
      " 0   age             41188 non-null  int64  \n",
      " 1   job             41188 non-null  int64  \n",
      " 2   marital         41188 non-null  int64  \n",
      " 3   education       41188 non-null  int64  \n",
      " 4   default         41188 non-null  int64  \n",
      " 5   housing         41188 non-null  int64  \n",
      " 6   loan            41188 non-null  int64  \n",
      " 7   contact         41188 non-null  int64  \n",
      " 8   month           41188 non-null  int64  \n",
      " 9   day_of_week     41188 non-null  int64  \n",
      " 10  duration        41188 non-null  int64  \n",
      " 11  campaign        41188 non-null  int64  \n",
      " 12  pdays           41188 non-null  int64  \n",
      " 13  previous        41188 non-null  int64  \n",
      " 14  poutcome        41188 non-null  int64  \n",
      " 15  emp.var.rate    41188 non-null  float64\n",
      " 16  cons.price.idx  41188 non-null  float64\n",
      " 17  cons.conf.idx   41188 non-null  float64\n",
      " 18  euribor3m       41188 non-null  float64\n",
      " 19  nr.employed     41188 non-null  float64\n",
      " 20  y               41188 non-null  int64  \n",
      "dtypes: float64(5), int64(16)\n",
      "memory usage: 6.6 MB\n"
     ]
    }
   ],
   "source": [
    "bank.info()"
   ]
  },
  {
   "cell_type": "code",
   "execution_count": 8,
   "metadata": {
    "scrolled": true
   },
   "outputs": [
    {
     "data": {
      "text/plain": [
       "age                  0\n",
       "job                330\n",
       "marital             80\n",
       "education         1731\n",
       "default           8597\n",
       "housing            990\n",
       "loan               990\n",
       "contact              0\n",
       "month                0\n",
       "day_of_week          0\n",
       "duration             0\n",
       "campaign             0\n",
       "pdays                0\n",
       "previous             0\n",
       "poutcome             0\n",
       "emp.var.rate         0\n",
       "cons.price.idx       0\n",
       "cons.conf.idx        0\n",
       "euribor3m            0\n",
       "nr.employed          0\n",
       "y                    0\n",
       "dtype: int64"
      ]
     },
     "execution_count": 8,
     "metadata": {},
     "output_type": "execute_result"
    }
   ],
   "source": [
    "## -9 value in dataset means Null, we replace -9 with NA to find missing values and deal with them\n",
    "\n",
    "bank.replace(-9,pd.NA,inplace=True)\n",
    "bank.isna().sum()"
   ]
  },
  {
   "cell_type": "markdown",
   "metadata": {},
   "source": [
    "    The dataset has 41188 rows, and we have missing values in \n",
    "    'job' 330\n",
    "    'marital' 80\n",
    "    'education' 1731\n",
    "    'default' 8597\n",
    "    'housing' 990\n",
    "    'loan' 990\n",
    "    'poutcome' 35563\n",
    "    \n",
    "    For each column, I going to decide to drop missing values, replace them with mean, median, or mode, depending on the distribution of the data   "
   ]
  },
  {
   "cell_type": "code",
   "execution_count": 9,
   "metadata": {
    "scrolled": false
   },
   "outputs": [
    {
     "data": {
      "text/plain": [
       "0     10422\n",
       "1      9254\n",
       "9      6743\n",
       "7      3969\n",
       "4      2924\n",
       "5      1720\n",
       "2      1456\n",
       "6      1421\n",
       "3      1060\n",
       "10     1014\n",
       "8       875\n",
       "Name: job, dtype: int64"
      ]
     },
     "execution_count": 9,
     "metadata": {},
     "output_type": "execute_result"
    }
   ],
   "source": [
    "bank.job.value_counts()"
   ]
  },
  {
   "cell_type": "code",
   "execution_count": 10,
   "metadata": {
    "scrolled": false
   },
   "outputs": [
    {
     "name": "stdout",
     "output_type": "stream",
     "text": [
      "job Median:  2.0\n",
      "job mean:  4\n",
      "job mode:  0    0\n",
      "dtype: object\n"
     ]
    }
   ],
   "source": [
    "print('job Median: ',bank['job'].median())\n",
    "print('job mean: ', round(bank['job'].mean()))\n",
    "print('job mode: ',bank['job'].mode())"
   ]
  },
  {
   "cell_type": "markdown",
   "metadata": {},
   "source": [
    "    By looking on Job distribution, I'm going to replace the missing values with median because the data is skewed. we have 0, 1, and 3 values are most frequent values. "
   ]
  },
  {
   "cell_type": "code",
   "execution_count": 11,
   "metadata": {},
   "outputs": [],
   "source": [
    "bank['job'] = bank['job'].fillna(2)"
   ]
  },
  {
   "cell_type": "code",
   "execution_count": 12,
   "metadata": {
    "scrolled": true
   },
   "outputs": [
    {
     "data": {
      "text/plain": [
       "1    24928\n",
       "2    11568\n",
       "0     4612\n",
       "Name: marital, dtype: int64"
      ]
     },
     "execution_count": 12,
     "metadata": {},
     "output_type": "execute_result"
    }
   ],
   "source": [
    "bank.marital.value_counts()"
   ]
  },
  {
   "cell_type": "markdown",
   "metadata": {},
   "source": [
    "    For \"Marital\" column, since we only have 88 missing values, dropping them is the best option."
   ]
  },
  {
   "cell_type": "code",
   "execution_count": 13,
   "metadata": {},
   "outputs": [],
   "source": [
    "bank= bank.dropna(subset=['marital'])"
   ]
  },
  {
   "cell_type": "code",
   "execution_count": 14,
   "metadata": {},
   "outputs": [
    {
     "data": {
      "text/plain": [
       "5    12137\n",
       "3     9519\n",
       "2     6037\n",
       "4     5237\n",
       "0     4170\n",
       "1     2286\n",
       "Name: education, dtype: int64"
      ]
     },
     "execution_count": 14,
     "metadata": {},
     "output_type": "execute_result"
    }
   ],
   "source": [
    "bank.education.value_counts()"
   ]
  },
  {
   "cell_type": "code",
   "execution_count": 15,
   "metadata": {},
   "outputs": [
    {
     "name": "stdout",
     "output_type": "stream",
     "text": [
      "education Median:  3.0\n",
      "educastion mean:  3.162291169451074\n",
      "education mode:  0    5\n",
      "dtype: object\n"
     ]
    }
   ],
   "source": [
    "print('education Median: ',bank['education'].median())\n",
    "print('educastion mean: ',bank['education'].mean())\n",
    "print('education mode: ',bank['education'].mode())"
   ]
  },
  {
   "cell_type": "markdown",
   "metadata": {},
   "source": [
    "    For \"education\" column, we have 1731 missing values. By looking on the distribution and since there is no difference between mean and median. replacing the missing values with 3, which is the mean and median, is the best option."
   ]
  },
  {
   "cell_type": "code",
   "execution_count": 16,
   "metadata": {},
   "outputs": [],
   "source": [
    "bank['education'] = bank['education'].fillna(3)"
   ]
  },
  {
   "cell_type": "code",
   "execution_count": 17,
   "metadata": {},
   "outputs": [
    {
     "data": {
      "text/plain": [
       "0    32519\n",
       "1        3\n",
       "Name: default, dtype: int64"
      ]
     },
     "execution_count": 17,
     "metadata": {},
     "output_type": "execute_result"
    }
   ],
   "source": [
    "bank.default.value_counts()"
   ]
  },
  {
   "cell_type": "markdown",
   "metadata": {},
   "source": [
    "    For default column, we have 8597 missing values, and we only have 3 '1s' and 32588 '0s', so replacing them with 0s is the best option here."
   ]
  },
  {
   "cell_type": "code",
   "execution_count": 18,
   "metadata": {},
   "outputs": [],
   "source": [
    "bank['default'] = bank['default'].fillna(0)"
   ]
  },
  {
   "cell_type": "code",
   "execution_count": 19,
   "metadata": {},
   "outputs": [
    {
     "data": {
      "text/plain": [
       "0    21541\n",
       "1    18578\n",
       "Name: housing, dtype: int64"
      ]
     },
     "execution_count": 19,
     "metadata": {},
     "output_type": "execute_result"
    }
   ],
   "source": [
    "bank.housing.value_counts()"
   ]
  },
  {
   "cell_type": "code",
   "execution_count": 20,
   "metadata": {
    "scrolled": true
   },
   "outputs": [
    {
     "name": "stdout",
     "output_type": "stream",
     "text": [
      "housing Median:  0.0\n",
      "housing mean:  0.4630723597298038\n",
      "housing mode:  0    0\n",
      "dtype: object\n"
     ]
    }
   ],
   "source": [
    "print('housing Median: ',bank['housing'].median())\n",
    "print('housing mean: ',bank['housing'].mean())\n",
    "print('housing mode: ',bank['housing'].mode())"
   ]
  },
  {
   "cell_type": "markdown",
   "metadata": {},
   "source": [
    "    For housing column, rounded mean, median, and mode are 0. so I am going to replace them with 0s"
   ]
  },
  {
   "cell_type": "code",
   "execution_count": 21,
   "metadata": {},
   "outputs": [],
   "source": [
    "bank['housing'] = bank['housing'].fillna(0)"
   ]
  },
  {
   "cell_type": "code",
   "execution_count": 22,
   "metadata": {},
   "outputs": [
    {
     "data": {
      "text/plain": [
       "1    33883\n",
       "0     6236\n",
       "Name: loan, dtype: int64"
      ]
     },
     "execution_count": 22,
     "metadata": {},
     "output_type": "execute_result"
    }
   ],
   "source": [
    "bank.loan.value_counts()"
   ]
  },
  {
   "cell_type": "code",
   "execution_count": 23,
   "metadata": {
    "scrolled": true
   },
   "outputs": [
    {
     "name": "stdout",
     "output_type": "stream",
     "text": [
      "loan Median:  1.0\n",
      "loan mean:  0.8445624267803286\n",
      "loan mode:  0    1\n",
      "dtype: object\n"
     ]
    }
   ],
   "source": [
    "print('loan Median: ',bank['loan'].median())\n",
    "print('loan mean: ',bank['loan'].mean())\n",
    "print('loan mode: ',bank['loan'].mode())"
   ]
  },
  {
   "cell_type": "markdown",
   "metadata": {},
   "source": [
    "    Same as default column, Loan column has a lot of 1s. Also, median mean, and mode are 1. so I am going to replace them with 1s."
   ]
  },
  {
   "cell_type": "code",
   "execution_count": 24,
   "metadata": {},
   "outputs": [],
   "source": [
    "bank['loan'] = bank['loan'].fillna(1)"
   ]
  },
  {
   "cell_type": "code",
   "execution_count": 25,
   "metadata": {
    "scrolled": true
   },
   "outputs": [
    {
     "data": {
      "text/plain": [
       "age               0\n",
       "job               0\n",
       "marital           0\n",
       "education         0\n",
       "default           0\n",
       "housing           0\n",
       "loan              0\n",
       "contact           0\n",
       "month             0\n",
       "day_of_week       0\n",
       "duration          0\n",
       "campaign          0\n",
       "pdays             0\n",
       "previous          0\n",
       "poutcome          0\n",
       "emp.var.rate      0\n",
       "cons.price.idx    0\n",
       "cons.conf.idx     0\n",
       "euribor3m         0\n",
       "nr.employed       0\n",
       "y                 0\n",
       "dtype: int64"
      ]
     },
     "execution_count": 25,
     "metadata": {},
     "output_type": "execute_result"
    }
   ],
   "source": [
    "bank.isna().sum()"
   ]
  },
  {
   "cell_type": "markdown",
   "metadata": {},
   "source": [
    "### Modeling \n",
    "\n",
    "    Now data is clean and with no missing values.\n",
    "    \n",
    "    To classify 'Y', I am going to use KNN, Naive Bayes, Decision tree, and Logistic regression. \n",
    "    \n",
    "    First, split data into 80% train and 20% test\n",
    "    "
   ]
  },
  {
   "cell_type": "code",
   "execution_count": 26,
   "metadata": {},
   "outputs": [],
   "source": [
    "cols = bank.columns\n",
    "target_col = 'y'\n",
    "feat_cols = [c for c in cols if c != target_col]\n",
    "\n",
    "# there is nothing magical about the X and y notation here. \n",
    "# however, it seems to be a fairly standard notation, so we will use is here\n",
    "x = bank[feat_cols].values\n",
    "y = bank[target_col].values"
   ]
  },
  {
   "cell_type": "code",
   "execution_count": 27,
   "metadata": {},
   "outputs": [],
   "source": [
    "x_train, x_test, y_train, y_test = train_test_split(x, y, test_size=0.2, random_state=42)"
   ]
  },
  {
   "cell_type": "markdown",
   "metadata": {},
   "source": [
    "#### KNN model"
   ]
  },
  {
   "cell_type": "code",
   "execution_count": 29,
   "metadata": {},
   "outputs": [],
   "source": [
    "knn = KNeighborsClassifier(n_neighbors=2, n_jobs=-1)\n",
    "knn.fit(x_train, y_train)\n",
    "knn_preds = knn.predict(x_test)"
   ]
  },
  {
   "cell_type": "code",
   "execution_count": 30,
   "metadata": {},
   "outputs": [
    {
     "name": "stdout",
     "output_type": "stream",
     "text": [
      "              precision    recall  f1-score   support\n",
      "\n",
      "           0       0.92      0.98      0.95      7324\n",
      "           1       0.61      0.28      0.39       898\n",
      "\n",
      "    accuracy                           0.90      8222\n",
      "   macro avg       0.76      0.63      0.67      8222\n",
      "weighted avg       0.88      0.90      0.89      8222\n",
      "\n",
      "AUC score 0.6301610533268298\n",
      "Accuracy score 0.9016054487959134\n"
     ]
    }
   ],
   "source": [
    "print(classification_report(y_test, knn_preds))\n",
    "print('AUC score',roc_auc_score(y_test, knn_preds))\n",
    "print('Accuracy score',accuracy_score(y_test,knn_preds))"
   ]
  },
  {
   "cell_type": "markdown",
   "metadata": {},
   "source": [
    "    90% accuracy, great. 0.90 average precision, 0.91 average recall. 0.91 F1 score. The model performs very well. let's find the optimal k number."
   ]
  },
  {
   "cell_type": "code",
   "execution_count": 34,
   "metadata": {
    "scrolled": true
   },
   "outputs": [
    {
     "name": "stdout",
     "output_type": "stream",
     "text": [
      "Features: ['age', 'job', 'marital', 'education', 'default', 'housing', 'loan', 'contact', 'month', 'day_of_week', 'duration', 'campaign', 'pdays', 'previous', 'poutcome', 'emp.var.rate', 'cons.price.idx', 'cons.conf.idx', 'euribor3m', 'nr.employed'] \n",
      "Target: y\n",
      "Evaluating 2 clusters\n",
      "Evaluating 3 clusters\n",
      "Evaluating 4 clusters\n",
      "Evaluating 5 clusters\n",
      "Evaluating 6 clusters\n",
      "Evaluating 7 clusters\n",
      "Evaluating 8 clusters\n",
      "Evaluating 9 clusters\n",
      "Evaluating 10 clusters\n",
      "Evaluating 11 clusters\n",
      "Evaluating 12 clusters\n",
      "Evaluating 13 clusters\n",
      "Evaluating 14 clusters\n",
      "Evaluating 15 clusters\n",
      "Evaluating 16 clusters\n",
      "Evaluating 17 clusters\n",
      "Evaluating 18 clusters\n",
      "Evaluating 19 clusters\n"
     ]
    }
   ],
   "source": [
    "scores = []\n",
    "print(f'Features: {feat_cols} \\nTarget: {target_col}')\n",
    "\n",
    "# remember the ending number for range is not inclusive\n",
    "for k in range(2, 20):\n",
    "    print(f'Evaluating {k} clusters')\n",
    "    knn = KNeighborsClassifier(n_neighbors=k, n_jobs=-1)\n",
    "    knn.fit(x_train, y_train)\n",
    "    scores.append(knn.score(x_test, y_test))"
   ]
  },
  {
   "cell_type": "code",
   "execution_count": 36,
   "metadata": {},
   "outputs": [
    {
     "data": {
      "image/png": "[encoded data removed]",
      "text/plain": [
       "<Figure size 432x288 with 1 Axes>"
      ]
     },
     "metadata": {
      "needs_background": "light"
     },
     "output_type": "display_data"
    }
   ],
   "source": [
    "# display the resutls\n",
    "plt.plot(range(2, 20), scores)\n",
    "plt.scatter(range(2, 20), scores)\n",
    "plt.grid()\n",
    "_ =plt.xticks(range(2, 20))"
   ]
  },
  {
   "cell_type": "markdown",
   "metadata": {},
   "source": [
    "    13 clusters is the optimal k number."
   ]
  },
  {
   "cell_type": "code",
   "execution_count": 39,
   "metadata": {},
   "outputs": [],
   "source": [
    "knn = KNeighborsClassifier(n_neighbors=13, n_jobs=-1)\n",
    "knn.fit(x_train, y_train)\n",
    "knn_preds = knn.predict(x_test)"
   ]
  },
  {
   "cell_type": "code",
   "execution_count": 206,
   "metadata": {
    "scrolled": true
   },
   "outputs": [
    {
     "name": "stdout",
     "output_type": "stream",
     "text": [
      "              precision    recall  f1-score   support\n",
      "\n",
      "           0       0.94      0.97      0.95      7324\n",
      "           1       0.65      0.50      0.57       898\n",
      "\n",
      "    accuracy                           0.92      8222\n",
      "   macro avg       0.79      0.73      0.76      8222\n",
      "weighted avg       0.91      0.92      0.91      8222\n",
      "\n",
      "AUC score 0.7343194841622684\n",
      "Accuracy score 0.9157139382145464\n"
     ]
    }
   ],
   "source": [
    "print(classification_report(y_test, knn_preds))\n",
    "print('AUC score',roc_auc_score(y_test, knn_preds))\n",
    "print('Accuracy score',accuracy_score(y_test,knn_preds))"
   ]
  },
  {
   "cell_type": "code",
   "execution_count": 40,
   "metadata": {},
   "outputs": [
    {
     "data": {
      "image/png": "[encoded data removed]",
      "text/plain": [
       "<Figure size 432x288 with 2 Axes>"
      ]
     },
     "metadata": {
      "needs_background": "light"
     },
     "output_type": "display_data"
    }
   ],
   "source": [
    "cm = confusion_matrix(y_test, knn_preds)\n",
    "target_labels = np.unique(y_test)\n",
    "\n",
    "sns.heatmap(cm, square=True, annot=True, fmt='d', cbar=True, cmap=\"YlGnBu\",\n",
    "            xticklabels=target_labels, yticklabels=target_labels)\n",
    "\n",
    "plt.xlabel('predicted label')\n",
    "plt.ylabel('actual label');"
   ]
  },
  {
   "cell_type": "markdown",
   "metadata": {},
   "source": [
    "    With 13 clusters, the accuracy improved to 91%. As well as recall and precision. "
   ]
  },
  {
   "cell_type": "markdown",
   "metadata": {},
   "source": [
    "#### Bayes Naive model"
   ]
  },
  {
   "cell_type": "code",
   "execution_count": 42,
   "metadata": {},
   "outputs": [],
   "source": [
    "bn = GaussianNB()\n",
    "bn.fit(x_train, y_train)\n",
    "bn_preds = bn.predict(x_test)"
   ]
  },
  {
   "cell_type": "code",
   "execution_count": 43,
   "metadata": {
    "scrolled": true
   },
   "outputs": [
    {
     "name": "stdout",
     "output_type": "stream",
     "text": [
      "              precision    recall  f1-score   support\n",
      "\n",
      "           0       0.95      0.87      0.90      7324\n",
      "           1       0.36      0.61      0.45       898\n",
      "\n",
      "    accuracy                           0.84      8222\n",
      "   macro avg       0.65      0.74      0.68      8222\n",
      "weighted avg       0.88      0.84      0.86      8222\n",
      "\n",
      "AUC score 0.7389914051372125\n",
      "Accuracy score 0.8378739965945026\n"
     ]
    }
   ],
   "source": [
    "print(classification_report(y_test, bn_preds))\n",
    "print('AUC score',roc_auc_score(y_test, bn_preds))\n",
    "print('Accuracy score',accuracy_score(y_test,bn_preds))"
   ]
  },
  {
   "cell_type": "code",
   "execution_count": 44,
   "metadata": {},
   "outputs": [
    {
     "data": {
      "image/png": "[encoded data removed]",
      "text/plain": [
       "<Figure size 432x288 with 2 Axes>"
      ]
     },
     "metadata": {
      "needs_background": "light"
     },
     "output_type": "display_data"
    }
   ],
   "source": [
    "cm = confusion_matrix(y_test, bn_preds)\n",
    "target_labels = np.unique(y_test)\n",
    "\n",
    "sns.heatmap(cm, square=True, annot=True, fmt='d', cbar=True, cmap=\"YlGnBu\",\n",
    "            xticklabels=target_labels, yticklabels=target_labels)\n",
    "\n",
    "plt.xlabel('predicted label')\n",
    "plt.ylabel('actual label');"
   ]
  },
  {
   "cell_type": "markdown",
   "metadata": {},
   "source": [
    "    Bayes Naive model performs well, but not better than KNN. "
   ]
  },
  {
   "cell_type": "markdown",
   "metadata": {},
   "source": [
    "#### Decision Tree"
   ]
  },
  {
   "cell_type": "code",
   "execution_count": 46,
   "metadata": {},
   "outputs": [],
   "source": [
    "dt = tree.DecisionTreeClassifier()\n",
    "dt.fit(x_train, y_train)\n",
    "dt_preds = dt.predict(x_test)"
   ]
  },
  {
   "cell_type": "code",
   "execution_count": 47,
   "metadata": {},
   "outputs": [
    {
     "name": "stdout",
     "output_type": "stream",
     "text": [
      "              precision    recall  f1-score   support\n",
      "\n",
      "           0       0.94      0.94      0.94      7324\n",
      "           1       0.50      0.51      0.50       898\n",
      "\n",
      "    accuracy                           0.89      8222\n",
      "   macro avg       0.72      0.72      0.72      8222\n",
      "weighted avg       0.89      0.89      0.89      8222\n",
      "\n",
      "AUC score 0.7241749673709037\n",
      "Accuracy score 0.8898078326441256\n"
     ]
    }
   ],
   "source": [
    "print(classification_report(y_test, dt_preds))\n",
    "print('AUC score',roc_auc_score(y_test, dt_preds))\n",
    "print('Accuracy score',accuracy_score(y_test,dt_preds))"
   ]
  },
  {
   "cell_type": "code",
   "execution_count": 48,
   "metadata": {
    "scrolled": true
   },
   "outputs": [
    {
     "data": {
      "image/png": "[encoded data removed]",
      "text/plain": [
       "<Figure size 432x288 with 2 Axes>"
      ]
     },
     "metadata": {
      "needs_background": "light"
     },
     "output_type": "display_data"
    }
   ],
   "source": [
    "cm = confusion_matrix(y_test, dt_preds)\n",
    "target_labels = np.unique(y_test)\n",
    "\n",
    "sns.heatmap(cm, square=True, annot=True, fmt='d', cbar=True, cmap=\"YlGnBu\",\n",
    "            xticklabels=target_labels, yticklabels=target_labels)\n",
    "\n",
    "plt.xlabel('predicted label')\n",
    "plt.ylabel('actual label');"
   ]
  },
  {
   "cell_type": "markdown",
   "metadata": {},
   "source": [
    "    Overall, decision tree model perform better than Naive Bayes model but still KNN is the best so far"
   ]
  },
  {
   "cell_type": "markdown",
   "metadata": {},
   "source": [
    "#### Logistic Regression"
   ]
  },
  {
   "cell_type": "code",
   "execution_count": 50,
   "metadata": {},
   "outputs": [],
   "source": [
    "lg = LogisticRegression()\n",
    "lg.fit(x_train, y_train)\n",
    "lg_preds = lg.predict(x_test)"
   ]
  },
  {
   "cell_type": "code",
   "execution_count": 53,
   "metadata": {},
   "outputs": [
    {
     "name": "stdout",
     "output_type": "stream",
     "text": [
      "              precision    recall  f1-score   support\n",
      "\n",
      "           0       0.93      0.97      0.95      7324\n",
      "           1       0.64      0.39      0.48       898\n",
      "\n",
      "    accuracy                           0.91      8222\n",
      "   macro avg       0.79      0.68      0.72      8222\n",
      "weighted avg       0.90      0.91      0.90      8222\n",
      "\n",
      "AUC score 0.6810083150979359\n",
      "Accuracy score 0.9095110678666991\n"
     ]
    }
   ],
   "source": [
    "print(classification_report(y_test, lg_preds))\n",
    "print('AUC score',roc_auc_score(y_test, lg_preds))\n",
    "print('Accuracy score',accuracy_score(y_test,lg_preds))"
   ]
  },
  {
   "cell_type": "code",
   "execution_count": 52,
   "metadata": {},
   "outputs": [
    {
     "data": {
      "image/png": "[encoded data removed]",
      "text/plain": [
       "<Figure size 432x288 with 2 Axes>"
      ]
     },
     "metadata": {
      "needs_background": "light"
     },
     "output_type": "display_data"
    }
   ],
   "source": [
    "cm = confusion_matrix(y_test, lg_preds)\n",
    "target_labels = np.unique(y_test)\n",
    "\n",
    "sns.heatmap(cm, square=True, annot=True, fmt='d', cbar=True, cmap=\"YlGnBu\",\n",
    "            xticklabels=target_labels, yticklabels=target_labels)\n",
    "\n",
    "plt.xlabel('predicted label')\n",
    "plt.ylabel('actual label');"
   ]
  },
  {
   "cell_type": "markdown",
   "metadata": {},
   "source": [
    "    Logistic Regression perform very well and so close to KNN. \n",
    "    \n",
    "    So far out model performance is:\n",
    "    \n",
    "    1- KNN: Accuracy = 91% , F1 score = 0.91\n",
    "    2- Logistic Regression: Accuracy = 90% , F1 score = 0.90\n",
    "    3- Decision Tree: Accuracy =  88% , F1 score = 0.89\n",
    "    4: Naive Bayes: Accuracy = 83% , F1 score = 0.86\n",
    "    "
   ]
  },
  {
   "cell_type": "markdown",
   "metadata": {},
   "source": [
    "##### Ploting ROC Curve for KNN model: "
   ]
  },
  {
   "cell_type": "code",
   "execution_count": 54,
   "metadata": {},
   "outputs": [],
   "source": [
    "lr_proba = cross_val_predict(knn, x_train, y_train, cv=3, method='predict_proba')\n",
    "lr_scores = lr_proba[:, 1]"
   ]
  },
  {
   "cell_type": "code",
   "execution_count": 55,
   "metadata": {},
   "outputs": [],
   "source": [
    "def ROC_Curve(title, y_train, scores, label=None):\n",
    "    \n",
    "    # calculate the ROC score\n",
    "    fpr, tpr, thresholds = roc_curve(y_train, scores)\n",
    "    print('AUC Score ({}): {:.2f} '.format(title, roc_auc_score(y_train, scores)))\n",
    "    \n",
    "    # plot the ROC curve\n",
    "    plt.figure(figsize=(8,6))\n",
    "    plt.plot(fpr, tpr, linewidth=2, label=label, color='b')\n",
    "    plt.xlabel('False Positive Rate', fontsize=16)\n",
    "    plt.ylabel('True Positive Rate', fontsize=16)\n",
    "    plt.title('ROC Curve: {}'.format(title), fontsize=16)\n",
    "    plt.show()"
   ]
  },
  {
   "cell_type": "code",
   "execution_count": 56,
   "metadata": {
    "scrolled": false
   },
   "outputs": [
    {
     "name": "stdout",
     "output_type": "stream",
     "text": [
      "AUC Score (Portuguese banking institution): 0.91 \n"
     ]
    },
    {
     "data": {
      "image/png": "[encoded data removed]",
      "text/plain": [
       "<Figure size 576x432 with 1 Axes>"
      ]
     },
     "metadata": {
      "needs_background": "light"
     },
     "output_type": "display_data"
    }
   ],
   "source": [
    "ROC_Curve('Portuguese banking institution',y_train,lr_scores)"
   ]
  },
  {
   "cell_type": "markdown",
   "metadata": {},
   "source": [
    "### References \n",
    "\n",
    "https://www.analyticsvidhya.com/blog/2021/01/a-guide-to-the-naive-bayes-algorithm/\n",
    "\n",
    "https://www.w3schools.com/python/ref_func_round.asp\n",
    "\n",
    "https://vitalflux.com/pandas-impute-missing-values-mean-median-mode/\n",
    "\n",
    "https://www.analyticsvidhya.com/blog/2021/04/how-to-handle-missing-values-of-categorical-variables/"
   ]
  }
 ],
 "metadata": {
  "kernelspec": {
   "display_name": "Python 3",
   "language": "python",
   "name": "python3"
  },
  "language_info": {
   "codemirror_mode": {
    "name": "ipython",
    "version": 3
   },
   "file_extension": ".py",
   "mimetype": "text/x-python",
   "name": "python",
   "nbconvert_exporter": "python",
   "pygments_lexer": "ipython3",
   "version": "3.8.8"
  }
 },
 "nbformat": 4,
 "nbformat_minor": 4
}
